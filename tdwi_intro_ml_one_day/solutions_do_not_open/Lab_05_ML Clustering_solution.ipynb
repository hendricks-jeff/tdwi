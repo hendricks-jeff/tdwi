{
 "cells": [
  {
   "cell_type": "markdown",
   "metadata": {},
   "source": [
    "# Clustering\n",
    "\n",
    "Clustering is an unsupervised learning technique useful to find similarity amongst data."
   ]
  },
  {
   "cell_type": "code",
   "execution_count": null,
   "metadata": {
    "collapsed": true
   },
   "outputs": [],
   "source": [
    "import numpy as np\n",
    "import pandas as pd\n",
    "import matplotlib.pyplot as plt\n",
    "%matplotlib inline"
   ]
  },
  {
   "cell_type": "markdown",
   "metadata": {},
   "source": [
    "## Load and plot data"
   ]
  },
  {
   "cell_type": "code",
   "execution_count": null,
   "metadata": {
    "collapsed": true
   },
   "outputs": [],
   "source": [
    "df = pd.read_csv('../data/iris.csv')"
   ]
  },
  {
   "cell_type": "code",
   "execution_count": null,
   "metadata": {
    "collapsed": true
   },
   "outputs": [],
   "source": [
    "df.head()"
   ]
  },
  {
   "cell_type": "code",
   "execution_count": null,
   "metadata": {
    "collapsed": true
   },
   "outputs": [],
   "source": [
    "plt.figure(figsize=(15,10))\n",
    "\n",
    "plt.scatter(df.sepal_length_cm, df.petal_length_cm)\n",
    "plt.title('Iris Flowers', size = 20)\n",
    "plt.xlabel('Sepal Length', size = 20)\n",
    "plt.ylabel('Petal Length', size = 20)"
   ]
  },
  {
   "cell_type": "markdown",
   "metadata": {},
   "source": [
    "## Encode labels"
   ]
  },
  {
   "cell_type": "code",
   "execution_count": null,
   "metadata": {
    "collapsed": true
   },
   "outputs": [],
   "source": [
    "from sklearn.preprocessing import LabelEncoder"
   ]
  },
  {
   "cell_type": "code",
   "execution_count": null,
   "metadata": {
    "collapsed": true
   },
   "outputs": [],
   "source": [
    "le = LabelEncoder()"
   ]
  },
  {
   "cell_type": "code",
   "execution_count": null,
   "metadata": {
    "collapsed": true
   },
   "outputs": [],
   "source": [
    "target_n = le.fit_transform(df.target)"
   ]
  },
  {
   "cell_type": "code",
   "execution_count": null,
   "metadata": {
    "collapsed": true
   },
   "outputs": [],
   "source": [
    "target_n"
   ]
  },
  {
   "cell_type": "code",
   "execution_count": null,
   "metadata": {
    "collapsed": true
   },
   "outputs": [],
   "source": [
    "le.classes_"
   ]
  },
  {
   "cell_type": "code",
   "execution_count": null,
   "metadata": {
    "collapsed": true
   },
   "outputs": [],
   "source": [
    "plt.figure(figsize=(15,10))\n",
    "\n",
    "plt.scatter(df.sepal_length_cm, df.petal_length_cm, c=target_n)\n",
    "plt.title('Iris Flowers')\n",
    "plt.xlabel('Sepal Length')\n",
    "plt.ylabel('Petal Length')\n",
    "plt.legend(le.classes_, loc = 'best')"
   ]
  },
  {
   "cell_type": "markdown",
   "metadata": {},
   "source": [
    "## Kmeans clustering"
   ]
  },
  {
   "cell_type": "code",
   "execution_count": null,
   "metadata": {
    "collapsed": true
   },
   "outputs": [],
   "source": [
    "from sklearn.cluster import KMeans\n",
    "\n",
    "X = df[['sepal_length_cm','sepal_width_cm','petal_length_cm','petal_width_cm']]\n",
    "km = KMeans(3)\n",
    "km.fit(X)"
   ]
  },
  {
   "cell_type": "code",
   "execution_count": null,
   "metadata": {
    "collapsed": true
   },
   "outputs": [],
   "source": [
    "centers = km.cluster_centers_\n",
    "centers"
   ]
  },
  {
   "cell_type": "code",
   "execution_count": null,
   "metadata": {
    "collapsed": true
   },
   "outputs": [],
   "source": [
    "plt.figure(figsize = (14,6))\n",
    "plt.subplot(121)\n",
    "plt.scatter(df.sepal_length_cm, df.petal_length_cm, c=target_n)\n",
    "plt.xlabel('Sepal Length (cm)')\n",
    "plt.ylabel('Petal length (cm)')\n",
    "plt.title('True Labels')\n",
    "\n",
    "plt.subplot(122)\n",
    "plt.scatter(df.sepal_length_cm, df.petal_length_cm, c=km.labels_)\n",
    "plt.scatter(centers[:,0], centers[:,2], marker='o', c='r', s=100)\n",
    "plt.xlabel('Sepal Length (cm)')\n",
    "plt.ylabel('Petal length (cm)')\n",
    "plt.title('K-Means Clusters')\n",
    "plt.draw()\n",
    "plt.show()\n"
   ]
  },
  {
   "cell_type": "markdown",
   "metadata": {},
   "source": [
    "### Exercise 1\n",
    "- discuss with your pair:\n",
    "    - why do cluster centers have 4 coordinates?\n",
    "    - do the colors in the two plots coincide? Why?\n",
    "- change the number of clusters using the n_clusters parameter. What happens?\n",
    "- change the initialization parameters of KMeans to 'random'. What happens?\n",
    "- run the clustering multiple times, do the centroid positions change?"
   ]
  },
  {
   "cell_type": "code",
   "execution_count": null,
   "metadata": {
    "collapsed": true
   },
   "outputs": [],
   "source": []
  },
  {
   "cell_type": "markdown",
   "metadata": {},
   "source": [
    "### Exercise 2\n",
    "- calculate silhouette_score for different values of k. You will have to extract the labels from km at different values of k\n",
    "- plot the silhouette score as a function of k for k between 2 and 10\n",
    "- discuss with your pair:\n",
    "    - what value of k gives the highest silhouette score?\n",
    "    - did you expect that result?"
   ]
  },
  {
   "cell_type": "code",
   "execution_count": null,
   "metadata": {
    "collapsed": true,
    "tags": [
     "solution",
     "empty"
    ]
   },
   "outputs": [],
   "source": [
    "from sklearn.metrics import silhouette_score"
   ]
  },
  {
   "cell_type": "code",
   "execution_count": null,
   "metadata": {
    "collapsed": true,
    "tags": [
     "solution"
    ]
   },
   "outputs": [],
   "source": [
    "ks = range(2, 10)\n",
    "scores = []\n",
    "for k in ks:\n",
    "    km = KMeans(k)\n",
    "    km.fit(X)\n",
    "    s = silhouette_score(X, km.labels_)\n",
    "    scores.append(s)\n",
    "\n",
    "plt.plot(ks, scores)"
   ]
  },
  {
   "cell_type": "markdown",
   "metadata": {},
   "source": [
    "### Exercise 3\n",
    "\n",
    "Try clustering with another method of the ones you find here: http://scikit-learn.org/stable/auto_examples/cluster/plot_cluster_comparison.html\n"
   ]
  },
  {
   "cell_type": "code",
   "execution_count": null,
   "metadata": {
    "collapsed": true,
    "tags": [
     "solution",
     "empty"
    ]
   },
   "outputs": [],
   "source": [
    "from sklearn.cluster import DBSCAN"
   ]
  },
  {
   "cell_type": "code",
   "execution_count": null,
   "metadata": {
    "collapsed": true,
    "tags": [
     "solution"
    ]
   },
   "outputs": [],
   "source": [
    "model = DBSCAN()\n",
    "model.fit(X)"
   ]
  },
  {
   "cell_type": "code",
   "execution_count": null,
   "metadata": {
    "collapsed": true,
    "tags": [
     "solution"
    ]
   },
   "outputs": [],
   "source": [
    "plt.figure(figsize = (14,6))\n",
    "plt.subplot(121)\n",
    "plt.scatter(df.sepal_length_cm, df.petal_length_cm, c=target_n)\n",
    "plt.xlabel('Sepal Length (cm)')\n",
    "plt.ylabel('Petal length (cm)')\n",
    "plt.title('True Labels')\n",
    "\n",
    "plt.subplot(122)\n",
    "plt.scatter(df.sepal_length_cm, df.petal_length_cm, c=model.labels_)\n",
    "plt.xlabel('Sepal Length (cm)')\n",
    "plt.ylabel('Petal length (cm)')\n",
    "plt.title('DBSCAN Clusters')\n",
    "plt.draw()\n",
    "plt.show()\n"
   ]
  },
  {
   "cell_type": "markdown",
   "metadata": {},
   "source": [
    "*Copyright &copy; 2017 CATALIT LLC.  All rights reserved.*"
   ]
  }
 ],
 "metadata": {
  "anaconda-cloud": {},
  "kernelspec": {
   "display_name": "Python 3",
   "language": "python",
   "name": "python3"
  },
  "language_info": {
   "codemirror_mode": {
    "name": "ipython",
    "version": 3
   },
   "file_extension": ".py",
   "mimetype": "text/x-python",
   "name": "python",
   "nbconvert_exporter": "python",
   "pygments_lexer": "ipython3",
   "version": "3.6.2"
  }
 },
 "nbformat": 4,
 "nbformat_minor": 1
}
