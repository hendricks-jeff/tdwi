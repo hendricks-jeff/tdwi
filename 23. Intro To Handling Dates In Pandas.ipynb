{
 "cells": [
  {
   "cell_type": "markdown",
   "metadata": {},
   "source": [
    "# Intro To Handling Dates In Pandas\n",
    "Properly handling dates in Pandas can be very useful.  For example, let's say you read in a csv of temperature data with dates and you'd like to find the monthly mean temperature.  If the date column is already recognized, by pandas, as a date type, then extracting the month from the column will be very easy.  If the date column is, instead, read in as a string type, then it will be more difficult to extract the month.\n",
    "\n",
    "## Notebook Outline\n",
    "* <a href='#parsedates'>Using the parse dates .read_csv() to automatically read in dateformats</a>\n",
    "* <a href='#todatetime'>Using .to_datetime() to convert a column to a pandas datetime format</a>\n",
    "* <a href='#dtattribute'>Using .dt on datetime columns</a>\n",
    "* <a href='#minmaxsum'>Introduction the .min(), .max() and .sum() methods</a>"
   ]
  },
  {
   "cell_type": "code",
   "execution_count": 1,
   "metadata": {},
   "outputs": [],
   "source": [
    "import pandas as pd\n",
    "import os"
   ]
  },
  {
   "cell_type": "markdown",
   "metadata": {},
   "source": [
    "<a name=parsedates></a>\n",
    "# Using the parse_dates argument in .read_csv() to automatically read in date formats\n",
    "When reading in a file, we can specify which columns, or which combinations of columns, we would like read in as a datetime type. For this example, I am going to introduce a new data file 'LaborSheetData.csv'. This file contains real data from a very popular fast food store. Every hour, the shift manager must enter some key data in this file, like drive through times and sales for the past hour. This will be a good dataset for us to explore in some of our lectures.\n",
    "\n",
    "First we will load the data. Remember that you will need to change the path to point to where you place the file on your computer, after you download it."
   ]
  },
  {
   "cell_type": "code",
   "execution_count": 2,
   "metadata": {},
   "outputs": [],
   "source": [
    "filepath = os.path.join(os.getcwd(), 'data', 'LaborSheetData.csv')\n",
    "laborSheetData = pd.read_csv(filepath)"
   ]
  },
  {
   "cell_type": "markdown",
   "metadata": {},
   "source": [
    "#### Use the .head() method to get a look at the data, and the .info method to see the data types"
   ]
  },
  {
   "cell_type": "code",
   "execution_count": 3,
   "metadata": {},
   "outputs": [
    {
     "data": {
      "text/html": [
       "<div>\n",
       "<style scoped>\n",
       "    .dataframe tbody tr th:only-of-type {\n",
       "        vertical-align: middle;\n",
       "    }\n",
       "\n",
       "    .dataframe tbody tr th {\n",
       "        vertical-align: top;\n",
       "    }\n",
       "\n",
       "    .dataframe thead th {\n",
       "        text-align: right;\n",
       "    }\n",
       "</style>\n",
       "<table border=\"1\" class=\"dataframe\">\n",
       "  <thead>\n",
       "    <tr style=\"text-align: right;\">\n",
       "      <th></th>\n",
       "      <th>Store</th>\n",
       "      <th>Manager</th>\n",
       "      <th>Date</th>\n",
       "      <th>Hour</th>\n",
       "      <th>Projected Sales</th>\n",
       "      <th>Sales</th>\n",
       "      <th>DT TTL</th>\n",
       "      <th>KVS Total</th>\n",
       "      <th>Hrs +/- (Actual vs Need)</th>\n",
       "      <th>Accum Hrs +/- (Act vs Need)</th>\n",
       "      <th>Reason for +/- Labor</th>\n",
       "      <th>Reason for High TTL's</th>\n",
       "      <th>Manager Entering Data</th>\n",
       "      <th>TimeStamp</th>\n",
       "    </tr>\n",
       "  </thead>\n",
       "  <tbody>\n",
       "    <tr>\n",
       "      <th>0</th>\n",
       "      <td>4007</td>\n",
       "      <td>Monica H</td>\n",
       "      <td>2/4/17</td>\n",
       "      <td>7:00:00</td>\n",
       "      <td>281.0</td>\n",
       "      <td>296.0</td>\n",
       "      <td>192</td>\n",
       "      <td>117</td>\n",
       "      <td>-1.00</td>\n",
       "      <td>1.00</td>\n",
       "      <td>NaN</td>\n",
       "      <td>NaN</td>\n",
       "      <td>NaN</td>\n",
       "      <td>2/4/17 7:10</td>\n",
       "    </tr>\n",
       "    <tr>\n",
       "      <th>1</th>\n",
       "      <td>4007</td>\n",
       "      <td>David H</td>\n",
       "      <td>2/4/17</td>\n",
       "      <td>8:00:00</td>\n",
       "      <td>670.0</td>\n",
       "      <td>347.0</td>\n",
       "      <td>111</td>\n",
       "      <td>97</td>\n",
       "      <td>2.39</td>\n",
       "      <td>2.39</td>\n",
       "      <td>NaN</td>\n",
       "      <td>NaN</td>\n",
       "      <td>NaN</td>\n",
       "      <td>2/4/17 8:04</td>\n",
       "    </tr>\n",
       "  </tbody>\n",
       "</table>\n",
       "</div>"
      ],
      "text/plain": [
       "   Store   Manager    Date     Hour  Projected Sales  Sales  DT TTL  \\\n",
       "0   4007  Monica H  2/4/17  7:00:00            281.0  296.0     192   \n",
       "1   4007   David H  2/4/17  8:00:00            670.0  347.0     111   \n",
       "\n",
       "   KVS Total  Hrs +/- (Actual vs Need)  Accum Hrs +/- (Act vs Need)  \\\n",
       "0        117                     -1.00                         1.00   \n",
       "1         97                      2.39                         2.39   \n",
       "\n",
       "  Reason for +/- Labor Reason for High TTL's  Manager Entering Data  \\\n",
       "0                  NaN                   NaN                    NaN   \n",
       "1                  NaN                   NaN                    NaN   \n",
       "\n",
       "     TimeStamp  \n",
       "0  2/4/17 7:10  \n",
       "1  2/4/17 8:04  "
      ]
     },
     "execution_count": 3,
     "metadata": {},
     "output_type": "execute_result"
    }
   ],
   "source": [
    "laborSheetData.head(2)"
   ]
  },
  {
   "cell_type": "code",
   "execution_count": 4,
   "metadata": {},
   "outputs": [
    {
     "name": "stdout",
     "output_type": "stream",
     "text": [
      "<class 'pandas.core.frame.DataFrame'>\n",
      "RangeIndex: 13178 entries, 0 to 13177\n",
      "Data columns (total 14 columns):\n",
      "Store                          13178 non-null int64\n",
      "Manager                        13175 non-null object\n",
      "Date                           13178 non-null object\n",
      "Hour                           13178 non-null object\n",
      "Projected Sales                13178 non-null float64\n",
      "Sales                          13178 non-null float64\n",
      "DT TTL                         13178 non-null int64\n",
      "KVS Total                      13178 non-null int64\n",
      "Hrs +/- (Actual vs Need)       13178 non-null float64\n",
      "Accum Hrs +/- (Act vs Need)    13178 non-null float64\n",
      "Reason for +/- Labor           396 non-null object\n",
      "Reason for High TTL's          260 non-null object\n",
      "Manager Entering Data          0 non-null float64\n",
      "TimeStamp                      13178 non-null object\n",
      "dtypes: float64(5), int64(3), object(6)\n",
      "memory usage: 1.4+ MB\n"
     ]
    }
   ],
   "source": [
    "laborSheetData.info()"
   ]
  },
  {
   "cell_type": "markdown",
   "metadata": {},
   "source": [
    "#### Note that data types of the Date and TimeStamp columns\n",
    "The data types are object, which means they were read in as strings. Let's double check that by grabbing a value from the data column using the .loc() method and finding its type with the type function."
   ]
  },
  {
   "cell_type": "code",
   "execution_count": 5,
   "metadata": {},
   "outputs": [
    {
     "data": {
      "text/plain": [
       "str"
      ]
     },
     "execution_count": 5,
     "metadata": {},
     "output_type": "execute_result"
    }
   ],
   "source": [
    "type(laborSheetData.loc[0, 'Date'])"
   ]
  },
  {
   "cell_type": "markdown",
   "metadata": {},
   "source": [
    "#### Now, we will use the parse_dates argument to automatically read the date columns in as date types.\n",
    "All we need to do is pass a list of the columns we would like pandas to try and automatically decipher as date or time objects to the parse_dates argument.  If you look above at the output from .info, you will see that the date or datetime columns are columns 2 and 13 (remember that counting starts at 0).\n",
    "\n",
    "Note that this will cause the read_csv() method to take a little bit longer to complete."
   ]
  },
  {
   "cell_type": "code",
   "execution_count": 6,
   "metadata": {},
   "outputs": [],
   "source": [
    "# add the parse_date attribute\n",
    "laborSheetData = pd.read_csv(filepath, parse_dates=[2, 13])\n",
    "\n",
    "# or use the column names\n",
    "laborSheetData = pd.read_csv(filepath, parse_dates=['Date', 'TimeStamp'])"
   ]
  },
  {
   "cell_type": "code",
   "execution_count": 7,
   "metadata": {},
   "outputs": [
    {
     "data": {
      "text/html": [
       "<div>\n",
       "<style scoped>\n",
       "    .dataframe tbody tr th:only-of-type {\n",
       "        vertical-align: middle;\n",
       "    }\n",
       "\n",
       "    .dataframe tbody tr th {\n",
       "        vertical-align: top;\n",
       "    }\n",
       "\n",
       "    .dataframe thead th {\n",
       "        text-align: right;\n",
       "    }\n",
       "</style>\n",
       "<table border=\"1\" class=\"dataframe\">\n",
       "  <thead>\n",
       "    <tr style=\"text-align: right;\">\n",
       "      <th></th>\n",
       "      <th>Store</th>\n",
       "      <th>Manager</th>\n",
       "      <th>Date</th>\n",
       "      <th>Hour</th>\n",
       "      <th>Projected Sales</th>\n",
       "      <th>Sales</th>\n",
       "      <th>DT TTL</th>\n",
       "      <th>KVS Total</th>\n",
       "      <th>Hrs +/- (Actual vs Need)</th>\n",
       "      <th>Accum Hrs +/- (Act vs Need)</th>\n",
       "      <th>Reason for +/- Labor</th>\n",
       "      <th>Reason for High TTL's</th>\n",
       "      <th>Manager Entering Data</th>\n",
       "      <th>TimeStamp</th>\n",
       "    </tr>\n",
       "  </thead>\n",
       "  <tbody>\n",
       "    <tr>\n",
       "      <th>0</th>\n",
       "      <td>4007</td>\n",
       "      <td>Monica H</td>\n",
       "      <td>2017-02-04</td>\n",
       "      <td>7:00:00</td>\n",
       "      <td>281.0</td>\n",
       "      <td>296.0</td>\n",
       "      <td>192</td>\n",
       "      <td>117</td>\n",
       "      <td>-1.00</td>\n",
       "      <td>1.00</td>\n",
       "      <td>NaN</td>\n",
       "      <td>NaN</td>\n",
       "      <td>NaN</td>\n",
       "      <td>2017-02-04 07:10:00</td>\n",
       "    </tr>\n",
       "    <tr>\n",
       "      <th>1</th>\n",
       "      <td>4007</td>\n",
       "      <td>David H</td>\n",
       "      <td>2017-02-04</td>\n",
       "      <td>8:00:00</td>\n",
       "      <td>670.0</td>\n",
       "      <td>347.0</td>\n",
       "      <td>111</td>\n",
       "      <td>97</td>\n",
       "      <td>2.39</td>\n",
       "      <td>2.39</td>\n",
       "      <td>NaN</td>\n",
       "      <td>NaN</td>\n",
       "      <td>NaN</td>\n",
       "      <td>2017-02-04 08:04:00</td>\n",
       "    </tr>\n",
       "  </tbody>\n",
       "</table>\n",
       "</div>"
      ],
      "text/plain": [
       "   Store   Manager       Date     Hour  Projected Sales  Sales  DT TTL  \\\n",
       "0   4007  Monica H 2017-02-04  7:00:00            281.0  296.0     192   \n",
       "1   4007   David H 2017-02-04  8:00:00            670.0  347.0     111   \n",
       "\n",
       "   KVS Total  Hrs +/- (Actual vs Need)  Accum Hrs +/- (Act vs Need)  \\\n",
       "0        117                     -1.00                         1.00   \n",
       "1         97                      2.39                         2.39   \n",
       "\n",
       "  Reason for +/- Labor Reason for High TTL's  Manager Entering Data  \\\n",
       "0                  NaN                   NaN                    NaN   \n",
       "1                  NaN                   NaN                    NaN   \n",
       "\n",
       "            TimeStamp  \n",
       "0 2017-02-04 07:10:00  \n",
       "1 2017-02-04 08:04:00  "
      ]
     },
     "execution_count": 7,
     "metadata": {},
     "output_type": "execute_result"
    }
   ],
   "source": [
    "laborSheetData.head(2)"
   ]
  },
  {
   "cell_type": "markdown",
   "metadata": {},
   "source": [
    "#### Now use .info() to check our datatypes.\n",
    "Note that the 'Date' and 'TimeStamp' columns are now datetime types!"
   ]
  },
  {
   "cell_type": "code",
   "execution_count": 8,
   "metadata": {},
   "outputs": [
    {
     "name": "stdout",
     "output_type": "stream",
     "text": [
      "<class 'pandas.core.frame.DataFrame'>\n",
      "RangeIndex: 13178 entries, 0 to 13177\n",
      "Data columns (total 14 columns):\n",
      "Store                          13178 non-null int64\n",
      "Manager                        13175 non-null object\n",
      "Date                           13178 non-null datetime64[ns]\n",
      "Hour                           13178 non-null object\n",
      "Projected Sales                13178 non-null float64\n",
      "Sales                          13178 non-null float64\n",
      "DT TTL                         13178 non-null int64\n",
      "KVS Total                      13178 non-null int64\n",
      "Hrs +/- (Actual vs Need)       13178 non-null float64\n",
      "Accum Hrs +/- (Act vs Need)    13178 non-null float64\n",
      "Reason for +/- Labor           396 non-null object\n",
      "Reason for High TTL's          260 non-null object\n",
      "Manager Entering Data          0 non-null float64\n",
      "TimeStamp                      13178 non-null datetime64[ns]\n",
      "dtypes: datetime64[ns](2), float64(5), int64(3), object(4)\n",
      "memory usage: 1.4+ MB\n"
     ]
    }
   ],
   "source": [
    "laborSheetData.info()"
   ]
  },
  {
   "cell_type": "markdown",
   "metadata": {},
   "source": [
    "#### Now let's use the parse_dates argument to _combine_ two (or more) columns into one datetime. \n",
    "For this, I need to give you some information about this data. The 'TimeStamp' column let's us know when the data was entered, but the 'Date' + 'Hour' column let us know what hour the data is for.  So it would be great if we could combine the Date and Hour columns into one datetime column!\n",
    "\n",
    "We can do this using the parse_dates argument. All we need to do is include a list, of the columns we want to combine, as one of the items in the list that we we pass to the parse_dates argument.  \n",
    "\n",
    "Note that pandas will create a _new_ column called 'Date_Hour' that combines the 'Date' and 'Hour' columns two columns."
   ]
  },
  {
   "cell_type": "code",
   "execution_count": 9,
   "metadata": {},
   "outputs": [],
   "source": [
    "# add parse_dates\n",
    "laborSheetData = pd.read_csv(filepath, parse_dates=[[2, 3], 13])"
   ]
  },
  {
   "cell_type": "code",
   "execution_count": 10,
   "metadata": {},
   "outputs": [
    {
     "data": {
      "text/html": [
       "<div>\n",
       "<style scoped>\n",
       "    .dataframe tbody tr th:only-of-type {\n",
       "        vertical-align: middle;\n",
       "    }\n",
       "\n",
       "    .dataframe tbody tr th {\n",
       "        vertical-align: top;\n",
       "    }\n",
       "\n",
       "    .dataframe thead th {\n",
       "        text-align: right;\n",
       "    }\n",
       "</style>\n",
       "<table border=\"1\" class=\"dataframe\">\n",
       "  <thead>\n",
       "    <tr style=\"text-align: right;\">\n",
       "      <th></th>\n",
       "      <th>Date_Hour</th>\n",
       "      <th>Store</th>\n",
       "      <th>Manager</th>\n",
       "      <th>Projected Sales</th>\n",
       "      <th>Sales</th>\n",
       "      <th>DT TTL</th>\n",
       "      <th>KVS Total</th>\n",
       "      <th>Hrs +/- (Actual vs Need)</th>\n",
       "      <th>Accum Hrs +/- (Act vs Need)</th>\n",
       "      <th>Reason for +/- Labor</th>\n",
       "      <th>Reason for High TTL's</th>\n",
       "      <th>Manager Entering Data</th>\n",
       "      <th>TimeStamp</th>\n",
       "    </tr>\n",
       "  </thead>\n",
       "  <tbody>\n",
       "    <tr>\n",
       "      <th>0</th>\n",
       "      <td>2017-02-04 07:00:00</td>\n",
       "      <td>4007</td>\n",
       "      <td>Monica H</td>\n",
       "      <td>281.0</td>\n",
       "      <td>296.0</td>\n",
       "      <td>192</td>\n",
       "      <td>117</td>\n",
       "      <td>-1.00</td>\n",
       "      <td>1.00</td>\n",
       "      <td>NaN</td>\n",
       "      <td>NaN</td>\n",
       "      <td>NaN</td>\n",
       "      <td>2017-02-04 07:10:00</td>\n",
       "    </tr>\n",
       "    <tr>\n",
       "      <th>1</th>\n",
       "      <td>2017-02-04 08:00:00</td>\n",
       "      <td>4007</td>\n",
       "      <td>David H</td>\n",
       "      <td>670.0</td>\n",
       "      <td>347.0</td>\n",
       "      <td>111</td>\n",
       "      <td>97</td>\n",
       "      <td>2.39</td>\n",
       "      <td>2.39</td>\n",
       "      <td>NaN</td>\n",
       "      <td>NaN</td>\n",
       "      <td>NaN</td>\n",
       "      <td>2017-02-04 08:04:00</td>\n",
       "    </tr>\n",
       "  </tbody>\n",
       "</table>\n",
       "</div>"
      ],
      "text/plain": [
       "            Date_Hour  Store   Manager  Projected Sales  Sales  DT TTL  \\\n",
       "0 2017-02-04 07:00:00   4007  Monica H            281.0  296.0     192   \n",
       "1 2017-02-04 08:00:00   4007   David H            670.0  347.0     111   \n",
       "\n",
       "   KVS Total  Hrs +/- (Actual vs Need)  Accum Hrs +/- (Act vs Need)  \\\n",
       "0        117                     -1.00                         1.00   \n",
       "1         97                      2.39                         2.39   \n",
       "\n",
       "  Reason for +/- Labor Reason for High TTL's  Manager Entering Data  \\\n",
       "0                  NaN                   NaN                    NaN   \n",
       "1                  NaN                   NaN                    NaN   \n",
       "\n",
       "            TimeStamp  \n",
       "0 2017-02-04 07:10:00  \n",
       "1 2017-02-04 08:04:00  "
      ]
     },
     "execution_count": 10,
     "metadata": {},
     "output_type": "execute_result"
    }
   ],
   "source": [
    "laborSheetData.head(2)"
   ]
  },
  {
   "cell_type": "code",
   "execution_count": 13,
   "metadata": {},
   "outputs": [
    {
     "name": "stdout",
     "output_type": "stream",
     "text": [
      "<class 'pandas.core.frame.DataFrame'>\n",
      "RangeIndex: 13178 entries, 0 to 13177\n",
      "Data columns (total 13 columns):\n",
      "Date_Hour                      13178 non-null datetime64[ns]\n",
      "Store                          13178 non-null int64\n",
      "Manager                        13175 non-null object\n",
      "Projected Sales                13178 non-null float64\n",
      "Sales                          13178 non-null float64\n",
      "DT TTL                         13178 non-null int64\n",
      "KVS Total                      13178 non-null int64\n",
      "Hrs +/- (Actual vs Need)       13178 non-null float64\n",
      "Accum Hrs +/- (Act vs Need)    13178 non-null float64\n",
      "Reason for +/- Labor           396 non-null object\n",
      "Reason for High TTL's          260 non-null object\n",
      "Manager Entering Data          0 non-null float64\n",
      "TimeStamp                      13178 non-null datetime64[ns]\n",
      "dtypes: datetime64[ns](2), float64(5), int64(3), object(3)\n",
      "memory usage: 1.3+ MB\n"
     ]
    }
   ],
   "source": [
    "laborSheetData.info()"
   ]
  },
  {
   "cell_type": "markdown",
   "metadata": {},
   "source": [
    "## Let's see another example using our weather data.\n",
    "Firs we will load the weather data and use .head() to look at the data.  Note that the first four columns are Year, Month, Day, and Hour."
   ]
  },
  {
   "cell_type": "code",
   "execution_count": 11,
   "metadata": {},
   "outputs": [],
   "source": [
    "filepath = os.path.join(os.getcwd(), 'data', 'Philadelphia_Pennsylvania_USA/724080-13739-2001')\n",
    "\n",
    "headers = ['Year', 'Month', 'Day', 'Hour', 'Air Temp', 'Dew Point Temp', 'Sea Level Pressure',\n",
    "           'Wind Direction', 'Wind Speed Rate',\n",
    "           'Sky Condition Total Coverage Code',\n",
    "           'Liquid Precipitation Depth Dimension - 1Hr Duration',\n",
    "           'Liquid Precipitation Depth Dimension - Six Hour Duration']\n",
    "weatherData = pd.read_csv(filepath, delim_whitespace=True,\n",
    "                          names=headers)"
   ]
  },
  {
   "cell_type": "code",
   "execution_count": 15,
   "metadata": {},
   "outputs": [
    {
     "data": {
      "text/html": [
       "<div>\n",
       "<style scoped>\n",
       "    .dataframe tbody tr th:only-of-type {\n",
       "        vertical-align: middle;\n",
       "    }\n",
       "\n",
       "    .dataframe tbody tr th {\n",
       "        vertical-align: top;\n",
       "    }\n",
       "\n",
       "    .dataframe thead th {\n",
       "        text-align: right;\n",
       "    }\n",
       "</style>\n",
       "<table border=\"1\" class=\"dataframe\">\n",
       "  <thead>\n",
       "    <tr style=\"text-align: right;\">\n",
       "      <th></th>\n",
       "      <th>Year</th>\n",
       "      <th>Month</th>\n",
       "      <th>Day</th>\n",
       "      <th>Hour</th>\n",
       "      <th>Air Temp</th>\n",
       "      <th>Dew Point Temp</th>\n",
       "      <th>Sea Level Pressure</th>\n",
       "      <th>Wind Direction</th>\n",
       "      <th>Wind Speed Rate</th>\n",
       "      <th>Sky Condition Total Coverage Code</th>\n",
       "      <th>Liquid Precipitation Depth Dimension - 1Hr Duration</th>\n",
       "      <th>Liquid Precipitation Depth Dimension - Six Hour Duration</th>\n",
       "    </tr>\n",
       "  </thead>\n",
       "  <tbody>\n",
       "    <tr>\n",
       "      <th>0</th>\n",
       "      <td>2001</td>\n",
       "      <td>1</td>\n",
       "      <td>1</td>\n",
       "      <td>0</td>\n",
       "      <td>-6</td>\n",
       "      <td>-94</td>\n",
       "      <td>10146</td>\n",
       "      <td>280</td>\n",
       "      <td>57</td>\n",
       "      <td>2</td>\n",
       "      <td>0</td>\n",
       "      <td>-9999</td>\n",
       "    </tr>\n",
       "  </tbody>\n",
       "</table>\n",
       "</div>"
      ],
      "text/plain": [
       "   Year  Month  Day  Hour  Air Temp  Dew Point Temp  Sea Level Pressure  \\\n",
       "0  2001      1    1     0        -6             -94               10146   \n",
       "\n",
       "   Wind Direction  Wind Speed Rate  Sky Condition Total Coverage Code  \\\n",
       "0             280               57                                  2   \n",
       "\n",
       "   Liquid Precipitation Depth Dimension - 1Hr Duration  \\\n",
       "0                                                  0     \n",
       "\n",
       "   Liquid Precipitation Depth Dimension - Six Hour Duration  \n",
       "0                                              -9999         "
      ]
     },
     "execution_count": 15,
     "metadata": {},
     "output_type": "execute_result"
    }
   ],
   "source": [
    "weatherData.head(1)"
   ]
  },
  {
   "cell_type": "markdown",
   "metadata": {},
   "source": [
    "### In Class Exercise:\n",
    "#### Use parse_dates to reload the data and combine the first four columns into one datetime column"
   ]
  },
  {
   "cell_type": "code",
   "execution_count": 12,
   "metadata": {},
   "outputs": [],
   "source": [
    "weatherData = pd.read_csv(filepath, delim_whitespace=True,\n",
    "                          names=headers, parse_dates=[[0, 1, 2, 3]])"
   ]
  },
  {
   "cell_type": "code",
   "execution_count": 17,
   "metadata": {},
   "outputs": [
    {
     "data": {
      "text/html": [
       "<div>\n",
       "<style scoped>\n",
       "    .dataframe tbody tr th:only-of-type {\n",
       "        vertical-align: middle;\n",
       "    }\n",
       "\n",
       "    .dataframe tbody tr th {\n",
       "        vertical-align: top;\n",
       "    }\n",
       "\n",
       "    .dataframe thead th {\n",
       "        text-align: right;\n",
       "    }\n",
       "</style>\n",
       "<table border=\"1\" class=\"dataframe\">\n",
       "  <thead>\n",
       "    <tr style=\"text-align: right;\">\n",
       "      <th></th>\n",
       "      <th>Year_Month_Day_Hour</th>\n",
       "      <th>Air Temp</th>\n",
       "      <th>Dew Point Temp</th>\n",
       "      <th>Sea Level Pressure</th>\n",
       "      <th>Wind Direction</th>\n",
       "      <th>Wind Speed Rate</th>\n",
       "      <th>Sky Condition Total Coverage Code</th>\n",
       "      <th>Liquid Precipitation Depth Dimension - 1Hr Duration</th>\n",
       "      <th>Liquid Precipitation Depth Dimension - Six Hour Duration</th>\n",
       "    </tr>\n",
       "  </thead>\n",
       "  <tbody>\n",
       "    <tr>\n",
       "      <th>0</th>\n",
       "      <td>2001-01-01 00:00:00</td>\n",
       "      <td>-6</td>\n",
       "      <td>-94</td>\n",
       "      <td>10146</td>\n",
       "      <td>280</td>\n",
       "      <td>57</td>\n",
       "      <td>2</td>\n",
       "      <td>0</td>\n",
       "      <td>-9999</td>\n",
       "    </tr>\n",
       "    <tr>\n",
       "      <th>1</th>\n",
       "      <td>2001-01-01 01:00:00</td>\n",
       "      <td>-11</td>\n",
       "      <td>-94</td>\n",
       "      <td>10153</td>\n",
       "      <td>280</td>\n",
       "      <td>57</td>\n",
       "      <td>4</td>\n",
       "      <td>0</td>\n",
       "      <td>-9999</td>\n",
       "    </tr>\n",
       "  </tbody>\n",
       "</table>\n",
       "</div>"
      ],
      "text/plain": [
       "  Year_Month_Day_Hour  Air Temp  Dew Point Temp  Sea Level Pressure  \\\n",
       "0 2001-01-01 00:00:00        -6             -94               10146   \n",
       "1 2001-01-01 01:00:00       -11             -94               10153   \n",
       "\n",
       "   Wind Direction  Wind Speed Rate  Sky Condition Total Coverage Code  \\\n",
       "0             280               57                                  2   \n",
       "1             280               57                                  4   \n",
       "\n",
       "   Liquid Precipitation Depth Dimension - 1Hr Duration  \\\n",
       "0                                                  0     \n",
       "1                                                  0     \n",
       "\n",
       "   Liquid Precipitation Depth Dimension - Six Hour Duration  \n",
       "0                                              -9999         \n",
       "1                                              -9999         "
      ]
     },
     "execution_count": 17,
     "metadata": {},
     "output_type": "execute_result"
    }
   ],
   "source": [
    "weatherData.head(2)"
   ]
  },
  {
   "cell_type": "code",
   "execution_count": 18,
   "metadata": {},
   "outputs": [
    {
     "name": "stdout",
     "output_type": "stream",
     "text": [
      "<class 'pandas.core.frame.DataFrame'>\n",
      "RangeIndex: 8758 entries, 0 to 8757\n",
      "Data columns (total 9 columns):\n",
      "Year_Month_Day_Hour                                         8758 non-null datetime64[ns]\n",
      "Air Temp                                                    8758 non-null int64\n",
      "Dew Point Temp                                              8758 non-null int64\n",
      "Sea Level Pressure                                          8758 non-null int64\n",
      "Wind Direction                                              8758 non-null int64\n",
      "Wind Speed Rate                                             8758 non-null int64\n",
      "Sky Condition Total Coverage Code                           8758 non-null int64\n",
      "Liquid Precipitation Depth Dimension - 1Hr Duration         8758 non-null int64\n",
      "Liquid Precipitation Depth Dimension - Six Hour Duration    8758 non-null int64\n",
      "dtypes: datetime64[ns](1), int64(8)\n",
      "memory usage: 615.9 KB\n"
     ]
    }
   ],
   "source": [
    "weatherData.info()"
   ]
  },
  {
   "cell_type": "markdown",
   "metadata": {},
   "source": [
    "<a name=todatetime></a>\n",
    "# Using pandas.to_datetime() to convert a column of strings to a columns of DateTime objects\n",
    "Sometimes, we need to convert a column after we read in the data. Maybe we have created the column during data processing. We can do this with the to_datetime() function in the pandas package.\n",
    "\n",
    "I am going to read in the labor sheet data again, without using parse_dates."
   ]
  },
  {
   "cell_type": "code",
   "execution_count": 13,
   "metadata": {},
   "outputs": [
    {
     "data": {
      "text/html": [
       "<div>\n",
       "<style scoped>\n",
       "    .dataframe tbody tr th:only-of-type {\n",
       "        vertical-align: middle;\n",
       "    }\n",
       "\n",
       "    .dataframe tbody tr th {\n",
       "        vertical-align: top;\n",
       "    }\n",
       "\n",
       "    .dataframe thead th {\n",
       "        text-align: right;\n",
       "    }\n",
       "</style>\n",
       "<table border=\"1\" class=\"dataframe\">\n",
       "  <thead>\n",
       "    <tr style=\"text-align: right;\">\n",
       "      <th></th>\n",
       "      <th>Store</th>\n",
       "      <th>Manager</th>\n",
       "      <th>Date</th>\n",
       "      <th>Hour</th>\n",
       "      <th>Projected Sales</th>\n",
       "      <th>Sales</th>\n",
       "      <th>DT TTL</th>\n",
       "      <th>KVS Total</th>\n",
       "      <th>Hrs +/- (Actual vs Need)</th>\n",
       "      <th>Accum Hrs +/- (Act vs Need)</th>\n",
       "      <th>Reason for +/- Labor</th>\n",
       "      <th>Reason for High TTL's</th>\n",
       "      <th>Manager Entering Data</th>\n",
       "      <th>TimeStamp</th>\n",
       "    </tr>\n",
       "  </thead>\n",
       "  <tbody>\n",
       "    <tr>\n",
       "      <th>0</th>\n",
       "      <td>4007</td>\n",
       "      <td>Monica H</td>\n",
       "      <td>2/4/17</td>\n",
       "      <td>7:00:00</td>\n",
       "      <td>281.0</td>\n",
       "      <td>296.0</td>\n",
       "      <td>192</td>\n",
       "      <td>117</td>\n",
       "      <td>-1.00</td>\n",
       "      <td>1.00</td>\n",
       "      <td>NaN</td>\n",
       "      <td>NaN</td>\n",
       "      <td>NaN</td>\n",
       "      <td>2/4/17 7:10</td>\n",
       "    </tr>\n",
       "    <tr>\n",
       "      <th>1</th>\n",
       "      <td>4007</td>\n",
       "      <td>David H</td>\n",
       "      <td>2/4/17</td>\n",
       "      <td>8:00:00</td>\n",
       "      <td>670.0</td>\n",
       "      <td>347.0</td>\n",
       "      <td>111</td>\n",
       "      <td>97</td>\n",
       "      <td>2.39</td>\n",
       "      <td>2.39</td>\n",
       "      <td>NaN</td>\n",
       "      <td>NaN</td>\n",
       "      <td>NaN</td>\n",
       "      <td>2/4/17 8:04</td>\n",
       "    </tr>\n",
       "    <tr>\n",
       "      <th>2</th>\n",
       "      <td>4007</td>\n",
       "      <td>David H</td>\n",
       "      <td>2/3/17</td>\n",
       "      <td>9:00:00</td>\n",
       "      <td>784.0</td>\n",
       "      <td>649.0</td>\n",
       "      <td>143</td>\n",
       "      <td>73</td>\n",
       "      <td>0.18</td>\n",
       "      <td>0.18</td>\n",
       "      <td>NaN</td>\n",
       "      <td>NaN</td>\n",
       "      <td>NaN</td>\n",
       "      <td>2/3/17 18:41</td>\n",
       "    </tr>\n",
       "    <tr>\n",
       "      <th>3</th>\n",
       "      <td>4007</td>\n",
       "      <td>David H</td>\n",
       "      <td>2/4/17</td>\n",
       "      <td>10:00:00</td>\n",
       "      <td>852.0</td>\n",
       "      <td>750.0</td>\n",
       "      <td>158</td>\n",
       "      <td>85</td>\n",
       "      <td>0.75</td>\n",
       "      <td>3.25</td>\n",
       "      <td>NaN</td>\n",
       "      <td>NaN</td>\n",
       "      <td>NaN</td>\n",
       "      <td>2/4/17 10:06</td>\n",
       "    </tr>\n",
       "    <tr>\n",
       "      <th>4</th>\n",
       "      <td>4007</td>\n",
       "      <td>Zoey D</td>\n",
       "      <td>2/5/17</td>\n",
       "      <td>5:00:00</td>\n",
       "      <td>54.0</td>\n",
       "      <td>108.0</td>\n",
       "      <td>104</td>\n",
       "      <td>45</td>\n",
       "      <td>-1.50</td>\n",
       "      <td>-1.50</td>\n",
       "      <td>NaN</td>\n",
       "      <td>NaN</td>\n",
       "      <td>NaN</td>\n",
       "      <td>2/5/17 10:57</td>\n",
       "    </tr>\n",
       "  </tbody>\n",
       "</table>\n",
       "</div>"
      ],
      "text/plain": [
       "   Store   Manager    Date      Hour  Projected Sales  Sales  DT TTL  \\\n",
       "0   4007  Monica H  2/4/17   7:00:00            281.0  296.0     192   \n",
       "1   4007   David H  2/4/17   8:00:00            670.0  347.0     111   \n",
       "2   4007   David H  2/3/17   9:00:00            784.0  649.0     143   \n",
       "3   4007   David H  2/4/17  10:00:00            852.0  750.0     158   \n",
       "4   4007    Zoey D  2/5/17   5:00:00             54.0  108.0     104   \n",
       "\n",
       "   KVS Total  Hrs +/- (Actual vs Need)  Accum Hrs +/- (Act vs Need)  \\\n",
       "0        117                     -1.00                         1.00   \n",
       "1         97                      2.39                         2.39   \n",
       "2         73                      0.18                         0.18   \n",
       "3         85                      0.75                         3.25   \n",
       "4         45                     -1.50                        -1.50   \n",
       "\n",
       "  Reason for +/- Labor Reason for High TTL's  Manager Entering Data  \\\n",
       "0                  NaN                   NaN                    NaN   \n",
       "1                  NaN                   NaN                    NaN   \n",
       "2                  NaN                   NaN                    NaN   \n",
       "3                  NaN                   NaN                    NaN   \n",
       "4                  NaN                   NaN                    NaN   \n",
       "\n",
       "      TimeStamp  \n",
       "0   2/4/17 7:10  \n",
       "1   2/4/17 8:04  \n",
       "2  2/3/17 18:41  \n",
       "3  2/4/17 10:06  \n",
       "4  2/5/17 10:57  "
      ]
     },
     "execution_count": 13,
     "metadata": {},
     "output_type": "execute_result"
    }
   ],
   "source": [
    "filepath = os.path.join(os.getcwd(), 'data', 'LaborSheetData.csv')\n",
    "laborSheetData = pd.read_csv(filepath)\n",
    "laborSheetData.head()"
   ]
  },
  {
   "cell_type": "code",
   "execution_count": null,
   "metadata": {},
   "outputs": [],
   "source": [
    "laborSheetData.info()"
   ]
  },
  {
   "cell_type": "markdown",
   "metadata": {},
   "source": [
    "#### Use to_datetime to convert the 'TimeStamp' column to a column of datetime objects.\n",
    "Note that to_datetime can not combine multiple columns (except under a few specific circumstances) so we can not use it to combine the 'Date' and 'Hour' columns."
   ]
  },
  {
   "cell_type": "code",
   "execution_count": 14,
   "metadata": {},
   "outputs": [],
   "source": [
    "laborSheetData.loc[:, 'TimeStamp'] = pd.to_datetime(laborSheetData['TimeStamp'])"
   ]
  },
  {
   "cell_type": "code",
   "execution_count": 15,
   "metadata": {},
   "outputs": [
    {
     "data": {
      "text/html": [
       "<div>\n",
       "<style scoped>\n",
       "    .dataframe tbody tr th:only-of-type {\n",
       "        vertical-align: middle;\n",
       "    }\n",
       "\n",
       "    .dataframe tbody tr th {\n",
       "        vertical-align: top;\n",
       "    }\n",
       "\n",
       "    .dataframe thead th {\n",
       "        text-align: right;\n",
       "    }\n",
       "</style>\n",
       "<table border=\"1\" class=\"dataframe\">\n",
       "  <thead>\n",
       "    <tr style=\"text-align: right;\">\n",
       "      <th></th>\n",
       "      <th>Store</th>\n",
       "      <th>Manager</th>\n",
       "      <th>Date</th>\n",
       "      <th>Hour</th>\n",
       "      <th>Projected Sales</th>\n",
       "      <th>Sales</th>\n",
       "      <th>DT TTL</th>\n",
       "      <th>KVS Total</th>\n",
       "      <th>Hrs +/- (Actual vs Need)</th>\n",
       "      <th>Accum Hrs +/- (Act vs Need)</th>\n",
       "      <th>Reason for +/- Labor</th>\n",
       "      <th>Reason for High TTL's</th>\n",
       "      <th>Manager Entering Data</th>\n",
       "      <th>TimeStamp</th>\n",
       "      <th>Date_Hour</th>\n",
       "    </tr>\n",
       "  </thead>\n",
       "  <tbody>\n",
       "    <tr>\n",
       "      <th>0</th>\n",
       "      <td>4007</td>\n",
       "      <td>Monica H</td>\n",
       "      <td>2/4/17</td>\n",
       "      <td>7:00:00</td>\n",
       "      <td>281.0</td>\n",
       "      <td>296.0</td>\n",
       "      <td>192</td>\n",
       "      <td>117</td>\n",
       "      <td>-1.0</td>\n",
       "      <td>1.0</td>\n",
       "      <td>NaN</td>\n",
       "      <td>NaN</td>\n",
       "      <td>NaN</td>\n",
       "      <td>2017-02-04 07:10:00</td>\n",
       "      <td>2/4/17 7:00:00</td>\n",
       "    </tr>\n",
       "  </tbody>\n",
       "</table>\n",
       "</div>"
      ],
      "text/plain": [
       "   Store   Manager    Date     Hour  Projected Sales  Sales  DT TTL  \\\n",
       "0   4007  Monica H  2/4/17  7:00:00            281.0  296.0     192   \n",
       "\n",
       "   KVS Total  Hrs +/- (Actual vs Need)  Accum Hrs +/- (Act vs Need)  \\\n",
       "0        117                      -1.0                          1.0   \n",
       "\n",
       "  Reason for +/- Labor Reason for High TTL's  Manager Entering Data  \\\n",
       "0                  NaN                   NaN                    NaN   \n",
       "\n",
       "            TimeStamp       Date_Hour  \n",
       "0 2017-02-04 07:10:00  2/4/17 7:00:00  "
      ]
     },
     "execution_count": 15,
     "metadata": {},
     "output_type": "execute_result"
    }
   ],
   "source": [
    "laborSheetData['Date_Hour'] = laborSheetData['Date'] + ' ' + laborSheetData['Hour']\n",
    "laborSheetData.head(1)"
   ]
  },
  {
   "cell_type": "code",
   "execution_count": 16,
   "metadata": {},
   "outputs": [],
   "source": [
    "laborSheetData.loc[:, 'Date_Hour'] = pd.to_datetime(laborSheetData['Date'] + ' ' + laborSheetData['Hour'])"
   ]
  },
  {
   "cell_type": "code",
   "execution_count": 17,
   "metadata": {},
   "outputs": [
    {
     "name": "stdout",
     "output_type": "stream",
     "text": [
      "<class 'pandas.core.frame.DataFrame'>\n",
      "RangeIndex: 13178 entries, 0 to 13177\n",
      "Data columns (total 15 columns):\n",
      "Store                          13178 non-null int64\n",
      "Manager                        13175 non-null object\n",
      "Date                           13178 non-null object\n",
      "Hour                           13178 non-null object\n",
      "Projected Sales                13178 non-null float64\n",
      "Sales                          13178 non-null float64\n",
      "DT TTL                         13178 non-null int64\n",
      "KVS Total                      13178 non-null int64\n",
      "Hrs +/- (Actual vs Need)       13178 non-null float64\n",
      "Accum Hrs +/- (Act vs Need)    13178 non-null float64\n",
      "Reason for +/- Labor           396 non-null object\n",
      "Reason for High TTL's          260 non-null object\n",
      "Manager Entering Data          0 non-null float64\n",
      "TimeStamp                      13178 non-null datetime64[ns]\n",
      "Date_Hour                      13178 non-null datetime64[ns]\n",
      "dtypes: datetime64[ns](2), float64(5), int64(3), object(5)\n",
      "memory usage: 1.5+ MB\n"
     ]
    }
   ],
   "source": [
    "laborSheetData.info()"
   ]
  },
  {
   "cell_type": "markdown",
   "metadata": {},
   "source": [
    "<a name=dtattribute></a>\n",
    "# Using .dt to access and operate on the datetime objects in a column\n",
    "I am sure you are wondering why we went to the trouble to convert the columns to the datetime data type. Well it let's us manipulate the datetimes much more easily. Let's see some basics below:\n",
    "\n",
    "First I read the data back in, correctly use the parse_dates argument."
   ]
  },
  {
   "cell_type": "code",
   "execution_count": 18,
   "metadata": {},
   "outputs": [
    {
     "data": {
      "text/html": [
       "<div>\n",
       "<style scoped>\n",
       "    .dataframe tbody tr th:only-of-type {\n",
       "        vertical-align: middle;\n",
       "    }\n",
       "\n",
       "    .dataframe tbody tr th {\n",
       "        vertical-align: top;\n",
       "    }\n",
       "\n",
       "    .dataframe thead th {\n",
       "        text-align: right;\n",
       "    }\n",
       "</style>\n",
       "<table border=\"1\" class=\"dataframe\">\n",
       "  <thead>\n",
       "    <tr style=\"text-align: right;\">\n",
       "      <th></th>\n",
       "      <th>Date_Hour</th>\n",
       "      <th>Store</th>\n",
       "      <th>Manager</th>\n",
       "      <th>Projected Sales</th>\n",
       "      <th>Sales</th>\n",
       "      <th>DT TTL</th>\n",
       "      <th>KVS Total</th>\n",
       "      <th>Hrs +/- (Actual vs Need)</th>\n",
       "      <th>Accum Hrs +/- (Act vs Need)</th>\n",
       "      <th>Reason for +/- Labor</th>\n",
       "      <th>Reason for High TTL's</th>\n",
       "      <th>Manager Entering Data</th>\n",
       "      <th>TimeStamp</th>\n",
       "    </tr>\n",
       "  </thead>\n",
       "  <tbody>\n",
       "    <tr>\n",
       "      <th>0</th>\n",
       "      <td>2017-02-04 07:00:00</td>\n",
       "      <td>4007</td>\n",
       "      <td>Monica H</td>\n",
       "      <td>281.0</td>\n",
       "      <td>296.0</td>\n",
       "      <td>192</td>\n",
       "      <td>117</td>\n",
       "      <td>-1.00</td>\n",
       "      <td>1.00</td>\n",
       "      <td>NaN</td>\n",
       "      <td>NaN</td>\n",
       "      <td>NaN</td>\n",
       "      <td>2017-02-04 07:10:00</td>\n",
       "    </tr>\n",
       "    <tr>\n",
       "      <th>1</th>\n",
       "      <td>2017-02-04 08:00:00</td>\n",
       "      <td>4007</td>\n",
       "      <td>David H</td>\n",
       "      <td>670.0</td>\n",
       "      <td>347.0</td>\n",
       "      <td>111</td>\n",
       "      <td>97</td>\n",
       "      <td>2.39</td>\n",
       "      <td>2.39</td>\n",
       "      <td>NaN</td>\n",
       "      <td>NaN</td>\n",
       "      <td>NaN</td>\n",
       "      <td>2017-02-04 08:04:00</td>\n",
       "    </tr>\n",
       "  </tbody>\n",
       "</table>\n",
       "</div>"
      ],
      "text/plain": [
       "            Date_Hour  Store   Manager  Projected Sales  Sales  DT TTL  \\\n",
       "0 2017-02-04 07:00:00   4007  Monica H            281.0  296.0     192   \n",
       "1 2017-02-04 08:00:00   4007   David H            670.0  347.0     111   \n",
       "\n",
       "   KVS Total  Hrs +/- (Actual vs Need)  Accum Hrs +/- (Act vs Need)  \\\n",
       "0        117                     -1.00                         1.00   \n",
       "1         97                      2.39                         2.39   \n",
       "\n",
       "  Reason for +/- Labor Reason for High TTL's  Manager Entering Data  \\\n",
       "0                  NaN                   NaN                    NaN   \n",
       "1                  NaN                   NaN                    NaN   \n",
       "\n",
       "            TimeStamp  \n",
       "0 2017-02-04 07:10:00  \n",
       "1 2017-02-04 08:04:00  "
      ]
     },
     "execution_count": 18,
     "metadata": {},
     "output_type": "execute_result"
    }
   ],
   "source": [
    "laborSheetData = pd.read_csv(filepath, parse_dates=[[2, 3], 13])\n",
    "laborSheetData.head(2)"
   ]
  },
  {
   "cell_type": "markdown",
   "metadata": {},
   "source": [
    "#### Use .dt to access the datetime properties, and then use .month to get the month of each value in the column"
   ]
  },
  {
   "cell_type": "code",
   "execution_count": 19,
   "metadata": {},
   "outputs": [
    {
     "data": {
      "text/plain": [
       "0    2\n",
       "1    2\n",
       "Name: Date_Hour, dtype: int64"
      ]
     },
     "execution_count": 19,
     "metadata": {},
     "output_type": "execute_result"
    }
   ],
   "source": [
    "# add .dt.month.head(2)\n",
    "laborSheetData['Date_Hour'].dt.month.head(2)"
   ]
  },
  {
   "cell_type": "markdown",
   "metadata": {},
   "source": [
    "#### Use .dt and .year to get the year of each columns"
   ]
  },
  {
   "cell_type": "code",
   "execution_count": 20,
   "metadata": {},
   "outputs": [
    {
     "data": {
      "text/plain": [
       "0    2017\n",
       "1    2017\n",
       "Name: Date_Hour, dtype: int64"
      ]
     },
     "execution_count": 20,
     "metadata": {},
     "output_type": "execute_result"
    }
   ],
   "source": [
    "# add .dt.year.head(2)\n",
    "laborSheetData['Date_Hour'].dt.year.head(2)"
   ]
  },
  {
   "cell_type": "markdown",
   "metadata": {},
   "source": [
    "#### Use .dt and .day to get the day of each columns"
   ]
  },
  {
   "cell_type": "code",
   "execution_count": 21,
   "metadata": {},
   "outputs": [
    {
     "data": {
      "text/plain": [
       "0    4\n",
       "1    4\n",
       "Name: Date_Hour, dtype: int64"
      ]
     },
     "execution_count": 21,
     "metadata": {},
     "output_type": "execute_result"
    }
   ],
   "source": [
    "# add .dt.day.head(2)\n",
    "laborSheetData['Date_Hour'].dt.day.head(2)"
   ]
  },
  {
   "cell_type": "markdown",
   "metadata": {},
   "source": [
    "#### Use .dt and .hour to get the hour of each columns"
   ]
  },
  {
   "cell_type": "code",
   "execution_count": 23,
   "metadata": {},
   "outputs": [
    {
     "data": {
      "text/plain": [
       "0    7\n",
       "1    8\n",
       "Name: Date_Hour, dtype: int64"
      ]
     },
     "execution_count": 23,
     "metadata": {},
     "output_type": "execute_result"
    }
   ],
   "source": [
    "# add .dt.hour.head(2)\n",
    "laborSheetData['Date_Hour'].dt.hour.head(2)"
   ]
  },
  {
   "cell_type": "markdown",
   "metadata": {},
   "source": [
    "#### Use .dt and .hour and .value_counts() to get the row counts for each hour; do some hours get recorded less than others?"
   ]
  },
  {
   "cell_type": "code",
   "execution_count": 24,
   "metadata": {},
   "outputs": [
    {
     "data": {
      "text/plain": [
       "8     806\n",
       "7     806\n",
       "9     794\n",
       "10    784\n",
       "12    774\n",
       "13    764\n",
       "11    762\n",
       "6     749\n",
       "14    745\n",
       "17    744\n",
       "16    741\n",
       "18    741\n",
       "15    738\n",
       "19    694\n",
       "20    664\n",
       "21    627\n",
       "22    552\n",
       "23    465\n",
       "0     210\n",
       "5       9\n",
       "1       7\n",
       "2       1\n",
       "3       1\n",
       "Name: Date_Hour, dtype: int64"
      ]
     },
     "execution_count": 24,
     "metadata": {},
     "output_type": "execute_result"
    }
   ],
   "source": [
    "# add .dt.hour.value_counts()\n",
    "laborSheetData['Date_Hour'].dt.hour.value_counts()"
   ]
  },
  {
   "cell_type": "markdown",
   "metadata": {},
   "source": [
    "#### Introducing .sort_index().  The .sort_index() method will sort the index of a dataframe (while reordering the rows appropriately)\n",
    "\n",
    "Note that the index of the value_counts() results is made up of the values that you are counting."
   ]
  },
  {
   "cell_type": "code",
   "execution_count": 25,
   "metadata": {},
   "outputs": [
    {
     "data": {
      "text/plain": [
       "0     210\n",
       "1       7\n",
       "2       1\n",
       "3       1\n",
       "5       9\n",
       "6     749\n",
       "7     806\n",
       "8     806\n",
       "9     794\n",
       "10    784\n",
       "11    762\n",
       "12    774\n",
       "13    764\n",
       "14    745\n",
       "15    738\n",
       "16    741\n",
       "17    744\n",
       "18    741\n",
       "19    694\n",
       "20    664\n",
       "21    627\n",
       "22    552\n",
       "23    465\n",
       "Name: Date_Hour, dtype: int64"
      ]
     },
     "execution_count": 25,
     "metadata": {},
     "output_type": "execute_result"
    }
   ],
   "source": [
    "laborSheetData['Date_Hour'].dt.hour.value_counts().sort_index()"
   ]
  },
  {
   "cell_type": "markdown",
   "metadata": {},
   "source": [
    "<a name=minmaxsum></a>\n",
    "## Introducing the .min(), .max() and .sum() methods.\n",
    "You can use these methods on any column, or dataframe to get the min, max, and sum of all numerical columns. You can also use the .min() and .max() methods to get the min and max of datetime columns"
   ]
  },
  {
   "cell_type": "markdown",
   "metadata": {},
   "source": [
    "#### Use .min() and .max() to find the earliest and latest year in the data."
   ]
  },
  {
   "cell_type": "code",
   "execution_count": 26,
   "metadata": {},
   "outputs": [
    {
     "name": "stdout",
     "output_type": "stream",
     "text": [
      "2017-01-22 22:00:00\n",
      "2017-09-25 18:00:00\n"
     ]
    }
   ],
   "source": [
    "print(laborSheetData['Date_Hour'].min())\n",
    "print(laborSheetData['Date_Hour'].max())"
   ]
  },
  {
   "cell_type": "markdown",
   "metadata": {},
   "source": [
    "#### Combine the use of .loc, .dt, and .sum() to find the total sales In August across all stores."
   ]
  },
  {
   "cell_type": "code",
   "execution_count": null,
   "metadata": {},
   "outputs": [],
   "source": [
    "laborSheetData.loc[laborSheetData['Date_Hour'].dt.month == 8, 'Sales'].sum()"
   ]
  },
  {
   "cell_type": "markdown",
   "metadata": {},
   "source": [
    "#### Selecting rows greater than (or less than) a date.\n",
    "Getting rows greater than, or less than (or some combination of logic tests) is fairly easy.  You use your normal logic tests: >, <, ==, etc...  and pass the value you'd like to test against as a string.  See the example below, note how we are able to use the string '2017-08-01' to get all rows with a value in the 'TimeStamp' column greater than '2017-08-01'. Easy!"
   ]
  },
  {
   "cell_type": "code",
   "execution_count": null,
   "metadata": {},
   "outputs": [],
   "source": [
    "laborSheetData.loc[laborSheetData['TimeStamp'] > '2017-08-01', :].head()"
   ]
  },
  {
   "cell_type": "markdown",
   "metadata": {},
   "source": [
    "## In Class Exercise:\n",
    "Create a cell below and explore the dataset by selecting rows by the TimeStamp or Date_Hour columns"
   ]
  },
  {
   "cell_type": "markdown",
   "metadata": {},
   "source": [
    "# Changing the time zone of a datetime column\n",
    "Pandas includes some easy functionality to convert the timezone of a datetime column.  The first thing we need to do is 'localize' the column - this means defining what timezone the original data is in.  They data we have been using happens to be from fast food location on the west coast, so we will localize the timestamp column to the 'US/Pacific' timezone by using the `tz_localize()` method.\n",
    "\n",
    "You can find a list of all accepted timezones in the top answer to this stackovrflow question: \n",
    "https://stackoverflow.com/questions/13866926/python-pytz-list-of-timezones"
   ]
  },
  {
   "cell_type": "code",
   "execution_count": null,
   "metadata": {},
   "outputs": [],
   "source": [
    "laborSheetData['TimeStamp'].dt.tz_localize('US/Pacific').head()"
   ]
  },
  {
   "cell_type": "code",
   "execution_count": null,
   "metadata": {},
   "outputs": [],
   "source": [
    "laborSheetData.loc[:, 'TimeStamp'] = laborSheetData['TimeStamp'].dt.tz_localize('US/Pacific')"
   ]
  },
  {
   "cell_type": "code",
   "execution_count": null,
   "metadata": {},
   "outputs": [],
   "source": [
    "laborSheetData.head()"
   ]
  },
  {
   "cell_type": "code",
   "execution_count": null,
   "metadata": {},
   "outputs": [],
   "source": [
    "laborSheetData.loc[:, 'TimeStamp_UTC'] = laborSheetData['TimeStamp'].dt.tz_convert('UTC')"
   ]
  },
  {
   "cell_type": "code",
   "execution_count": null,
   "metadata": {},
   "outputs": [],
   "source": [
    "laborSheetData.head()"
   ]
  },
  {
   "cell_type": "markdown",
   "metadata": {},
   "source": [
    "# Using .date_range() to create a DateTime index\n",
    "\n",
    "We can easily create a DateTime index by using the .date_range() method. We just need to pass a start date, and end date (or a number of periods) and a frequency (the amount of time between each value in the series of values).  Possible values for freq are:\n",
    "* s (for seconds)\n",
    "* min (for minutes)\n",
    "* H (for hours)\n",
    "* D (for days)\n",
    "* A (for annual, ending on the end of a year)\n",
    "* AS (for annual, ending on the start of a year)\n",
    "* You can also do multiples, i.e. 3H for a step of 3 hours.\n",
    "* You can also use something called a DateOffset object for more custom steps, but that is beyond the scope of this course.\n",
    "\n",
    "Note that, once you create an index, you can use it as a row index or column in a dataframe.\n",
    "\n",
    "The docs for this method are here: <https://pandas.pydata.org/pandas-docs/stable/generated/pandas.date_range.html>\n",
    "\n",
    "Let's look at some examples:"
   ]
  },
  {
   "cell_type": "markdown",
   "metadata": {},
   "source": [
    "#### Create a DatetimeIndex with a start date of 2001-01-01, an end date of 2002-01-01 and a step of 3 hours."
   ]
  },
  {
   "cell_type": "code",
   "execution_count": 27,
   "metadata": {},
   "outputs": [
    {
     "data": {
      "text/plain": [
       "DatetimeIndex(['2001-01-01 00:00:00', '2001-01-01 03:00:00',\n",
       "               '2001-01-01 06:00:00', '2001-01-01 09:00:00',\n",
       "               '2001-01-01 12:00:00', '2001-01-01 15:00:00',\n",
       "               '2001-01-01 18:00:00', '2001-01-01 21:00:00',\n",
       "               '2001-01-02 00:00:00', '2001-01-02 03:00:00',\n",
       "               ...\n",
       "               '2001-12-30 21:00:00', '2001-12-31 00:00:00',\n",
       "               '2001-12-31 03:00:00', '2001-12-31 06:00:00',\n",
       "               '2001-12-31 09:00:00', '2001-12-31 12:00:00',\n",
       "               '2001-12-31 15:00:00', '2001-12-31 18:00:00',\n",
       "               '2001-12-31 21:00:00', '2002-01-01 00:00:00'],\n",
       "              dtype='datetime64[ns]', length=2921, freq='3H')"
      ]
     },
     "execution_count": 27,
     "metadata": {},
     "output_type": "execute_result"
    }
   ],
   "source": [
    "pd.date_range(start='2001-01-01', end='2002-01-01', freq='3H')"
   ]
  },
  {
   "cell_type": "markdown",
   "metadata": {},
   "source": [
    "#### Create a DatetimeIndex with a start date of 2001-01-01 and a  frequency of 1 day that continues for 100 periods."
   ]
  },
  {
   "cell_type": "code",
   "execution_count": 28,
   "metadata": {},
   "outputs": [
    {
     "data": {
      "text/plain": [
       "DatetimeIndex(['2001-01-01', '2001-01-02', '2001-01-03', '2001-01-04',\n",
       "               '2001-01-05', '2001-01-06', '2001-01-07', '2001-01-08',\n",
       "               '2001-01-09', '2001-01-10', '2001-01-11', '2001-01-12',\n",
       "               '2001-01-13', '2001-01-14', '2001-01-15', '2001-01-16',\n",
       "               '2001-01-17', '2001-01-18', '2001-01-19', '2001-01-20',\n",
       "               '2001-01-21', '2001-01-22', '2001-01-23', '2001-01-24',\n",
       "               '2001-01-25', '2001-01-26', '2001-01-27', '2001-01-28',\n",
       "               '2001-01-29', '2001-01-30', '2001-01-31', '2001-02-01',\n",
       "               '2001-02-02', '2001-02-03', '2001-02-04', '2001-02-05',\n",
       "               '2001-02-06', '2001-02-07', '2001-02-08', '2001-02-09',\n",
       "               '2001-02-10', '2001-02-11', '2001-02-12', '2001-02-13',\n",
       "               '2001-02-14', '2001-02-15', '2001-02-16', '2001-02-17',\n",
       "               '2001-02-18', '2001-02-19', '2001-02-20', '2001-02-21',\n",
       "               '2001-02-22', '2001-02-23', '2001-02-24', '2001-02-25',\n",
       "               '2001-02-26', '2001-02-27', '2001-02-28', '2001-03-01',\n",
       "               '2001-03-02', '2001-03-03', '2001-03-04', '2001-03-05',\n",
       "               '2001-03-06', '2001-03-07', '2001-03-08', '2001-03-09',\n",
       "               '2001-03-10', '2001-03-11', '2001-03-12', '2001-03-13',\n",
       "               '2001-03-14', '2001-03-15', '2001-03-16', '2001-03-17',\n",
       "               '2001-03-18', '2001-03-19', '2001-03-20', '2001-03-21',\n",
       "               '2001-03-22', '2001-03-23', '2001-03-24', '2001-03-25',\n",
       "               '2001-03-26', '2001-03-27', '2001-03-28', '2001-03-29',\n",
       "               '2001-03-30', '2001-03-31', '2001-04-01', '2001-04-02',\n",
       "               '2001-04-03', '2001-04-04', '2001-04-05', '2001-04-06',\n",
       "               '2001-04-07', '2001-04-08', '2001-04-09', '2001-04-10'],\n",
       "              dtype='datetime64[ns]', freq='D')"
      ]
     },
     "execution_count": 28,
     "metadata": {},
     "output_type": "execute_result"
    }
   ],
   "source": [
    "pd.date_range(start='2001-01-01', periods=100, freq='D')"
   ]
  },
  {
   "cell_type": "markdown",
   "metadata": {},
   "source": [
    "#### Create a DatetimeIndex with a start date of 1970-01-01, that continues for 10 periods, and has an annual frequency - on the first day of each year."
   ]
  },
  {
   "cell_type": "code",
   "execution_count": 29,
   "metadata": {},
   "outputs": [
    {
     "data": {
      "text/plain": [
       "DatetimeIndex(['1970-01-01', '1971-01-01', '1972-01-01', '1973-01-01',\n",
       "               '1974-01-01', '1975-01-01', '1976-01-01', '1977-01-01',\n",
       "               '1978-01-01', '1979-01-01'],\n",
       "              dtype='datetime64[ns]', freq='AS-JAN')"
      ]
     },
     "execution_count": 29,
     "metadata": {},
     "output_type": "execute_result"
    }
   ],
   "source": [
    "pd.date_range(start='1970-01-01', periods=10, freq='AS')"
   ]
  },
  {
   "cell_type": "markdown",
   "metadata": {},
   "source": [
    "#### Create a DatetimeIndex with a start date of 1970-01-01, that continues for 10 periods, and has an annual frequency - on the last day of each year."
   ]
  },
  {
   "cell_type": "code",
   "execution_count": 30,
   "metadata": {},
   "outputs": [
    {
     "data": {
      "text/plain": [
       "DatetimeIndex(['1969-12-31', '1970-12-31', '1971-12-31', '1972-12-31',\n",
       "               '1973-12-31', '1974-12-31', '1975-12-31', '1976-12-31',\n",
       "               '1977-12-31', '1978-12-31'],\n",
       "              dtype='datetime64[ns]', freq='A-DEC')"
      ]
     },
     "execution_count": 30,
     "metadata": {},
     "output_type": "execute_result"
    }
   ],
   "source": [
    "pd.date_range(start='1969-12-31', periods=10, freq='A')"
   ]
  },
  {
   "cell_type": "markdown",
   "metadata": {},
   "source": [
    "#### Create a DatetimeIndex with a start date of 2001-01-01 and a step size of 1 day that continues for 100 steps."
   ]
  },
  {
   "cell_type": "code",
   "execution_count": null,
   "metadata": {},
   "outputs": [],
   "source": [
    "pd.date_range(start='1969-12-31', periods=10, freq='A-AUG')"
   ]
  },
  {
   "cell_type": "markdown",
   "metadata": {},
   "source": [
    "### In Class Exercise:\n",
    "Please add a cell below and create three DatetimeInidices of your choosing."
   ]
  },
  {
   "cell_type": "markdown",
   "metadata": {},
   "source": [
    "## Question or Comments About This Notebook?\n",
    "Feel free to contact me via my LinkedIn: https://www.linkedin.com/in/william-j-henry <br>\n",
    "You can also email me at will@henryanalytics.com <br>"
   ]
  }
 ],
 "metadata": {
  "hide_input": false,
  "kernelspec": {
   "display_name": "Python 3",
   "language": "python",
   "name": "python3"
  },
  "language_info": {
   "codemirror_mode": {
    "name": "ipython",
    "version": 3
   },
   "file_extension": ".py",
   "mimetype": "text/x-python",
   "name": "python",
   "nbconvert_exporter": "python",
   "pygments_lexer": "ipython3",
   "version": "3.7.0"
  },
  "varInspector": {
   "cols": {
    "lenName": 16,
    "lenType": 16,
    "lenVar": 40
   },
   "kernels_config": {
    "python": {
     "delete_cmd_postfix": "",
     "delete_cmd_prefix": "del ",
     "library": "var_list.py",
     "varRefreshCmd": "print(var_dic_list())"
    },
    "r": {
     "delete_cmd_postfix": ") ",
     "delete_cmd_prefix": "rm(",
     "library": "var_list.r",
     "varRefreshCmd": "cat(var_dic_list()) "
    }
   },
   "types_to_exclude": [
    "module",
    "function",
    "builtin_function_or_method",
    "instance",
    "_Feature"
   ],
   "window_display": false
  }
 },
 "nbformat": 4,
 "nbformat_minor": 2
}
