{
 "cells": [
  {
   "cell_type": "markdown",
   "metadata": {},
   "source": [
    "# Introduction To Merging Datasets\n",
    "\n",
    "## Notebook Outline:\n",
    "* <a href='#MergingDatasets'>Merging Datasets</a>"
   ]
  },
  {
   "cell_type": "markdown",
   "metadata": {},
   "source": [
    "<a id=\"MergingDatasets\"></a>\n",
    "# Merging Datasets\n",
    "\n",
    "Merge allows you to merge specific values from one dataframe to another. For example let's say you have some sales data. The data includes the product id, the price it sold for, and the date of sale. This dataframe is 20,000 rows and 3 columns. You have another dataframe with the product id and the matching product name, this dataframe is only 10 rows (because you are only selling 10 products) and 2 columns.  You can join the product names dataframe to the product sales dataframe.\n",
    "\n",
    "This is a lot like a SQL join, and there is a pandas method called join, but I prefer merge because it is more flexible - it does everything join does but more. (In fact, merge is the underlying function that join uses)"
   ]
  },
  {
   "cell_type": "markdown",
   "metadata": {},
   "source": [
    "# Example: Let's Merge Our Weather Data and Our Labor Data To See If Weather Affects Sales"
   ]
  },
  {
   "cell_type": "code",
   "execution_count": null,
   "metadata": {},
   "outputs": [],
   "source": [
    "%matplotlib inline\n",
    "import pandas as pd\n",
    "import os"
   ]
  },
  {
   "cell_type": "markdown",
   "metadata": {},
   "source": [
    "### Load The Labor Sheet Data"
   ]
  },
  {
   "cell_type": "code",
   "execution_count": null,
   "metadata": {},
   "outputs": [],
   "source": [
    "filepath = os.path.join(os.getcwd(), 'data', 'LaborSheetData.csv')\n",
    "\n",
    "laborSheetData = pd.read_csv(filepath, parse_dates=[[2, 3], 13])\n",
    "laborSheetData.head(2)"
   ]
  },
  {
   "cell_type": "markdown",
   "metadata": {},
   "source": [
    "### Select The Labor Sheet Data for Store 10764"
   ]
  },
  {
   "cell_type": "code",
   "execution_count": null,
   "metadata": {},
   "outputs": [],
   "source": [
    "laborSheetData['Store'].unique()"
   ]
  },
  {
   "cell_type": "code",
   "execution_count": null,
   "metadata": {},
   "outputs": [],
   "source": [
    "store10764 = laborSheetData.loc[laborSheetData['Store'] == 10764, :]\n",
    "store10764.head(2)"
   ]
  },
  {
   "cell_type": "markdown",
   "metadata": {},
   "source": [
    "### Load Weather Data For A Station Near The Store"
   ]
  },
  {
   "cell_type": "code",
   "execution_count": null,
   "metadata": {},
   "outputs": [],
   "source": [
    "headers = ['Year', 'Month', 'Day', 'Hour', 'Air Temp', 'Dew Point Temp', 'Sea Level Pressure',\n",
    "           'Wind Direction', 'Wind Speed Rate',\n",
    "           'Sky Condition Total Coverage Code',\n",
    "           'Liquid Precipitation Depth Dimension - 1Hr Duration',\n",
    "           'Liquid Precipitation Depth Dimension - Six Hour Duration']\n",
    "\n",
    "filepath = os.path.join(os.getcwd(), 'data', '726945-24202-2017')\n",
    "weatherData = pd.read_csv(filepath, delim_whitespace=True,\n",
    "                          names=headers, parse_dates=[[0, 1, 2, 3]])"
   ]
  },
  {
   "cell_type": "code",
   "execution_count": null,
   "metadata": {},
   "outputs": [],
   "source": [
    "weatherData.head(3)"
   ]
  },
  {
   "cell_type": "markdown",
   "metadata": {},
   "source": [
    "### Convert The 'Air Temp' Column to Fahrenheit."
   ]
  },
  {
   "cell_type": "code",
   "execution_count": null,
   "metadata": {},
   "outputs": [],
   "source": [
    "weatherData.loc[:, 'Air Temp'] = (weatherData['Air Temp']/10)*(9/5)+32\n",
    "weatherData.head(3)"
   ]
  },
  {
   "cell_type": "code",
   "execution_count": null,
   "metadata": {},
   "outputs": [],
   "source": [
    "store10764.head(2)"
   ]
  },
  {
   "cell_type": "markdown",
   "metadata": {},
   "source": [
    "### Now, use merge to merge the weatherData with the store10764 data.\n",
    "We call merge() as a method on the store10764 dataframe and pass weatherData as the first argument.  We use the arguments 'left_on' and 'right_on' to indicate which columns we want to join the datasets on.  We use the 'how' argument to specify if we'd like an inner, outer, left, or right join.\n",
    "\n",
    "https://pandas.pydata.org/pandas-docs/stable/generated/pandas.DataFrame.merge.html"
   ]
  },
  {
   "cell_type": "code",
   "execution_count": null,
   "metadata": {},
   "outputs": [],
   "source": [
    "mergedData = store10764.merge(weatherData, left_on='Date_Hour', right_on='Year_Month_Day_Hour', how='inner')\n",
    "mergedData.head(5)"
   ]
  },
  {
   "cell_type": "markdown",
   "metadata": {},
   "source": [
    "## Let's Compare The Sales vs. Temperature for the 6PM Hour\n",
    "Note that, for a full scale analysis we would want to remove the seasonal and diurnal cycle of the temperatures by calculating the mean temperature for each hour of the year (over ~30 years of data) and then possible smoothing the results. We would then subtract the mean temps from each hourly temp to calculate the temperature anomaly for that hour.\n",
    "\n",
    "This is a just a quick example of how merging can be used in the data analysis process."
   ]
  },
  {
   "cell_type": "code",
   "execution_count": null,
   "metadata": {},
   "outputs": [],
   "source": [
    "# Grab the data for only the 6pm hour.\n",
    "data_6PM = mergedData.loc[mergedData['Date_Hour'].dt.hour == 18, :]\n",
    "data_6PM.head(5)"
   ]
  },
  {
   "cell_type": "markdown",
   "metadata": {},
   "source": [
    "### Output The Merged Data To a CSV:"
   ]
  },
  {
   "cell_type": "code",
   "execution_count": null,
   "metadata": {},
   "outputs": [],
   "source": [
    "filepath = os.path.join(os.getcwd(), 'data', '6pm_Data.csv')\n",
    "data_6PM.to_csv(filepath, index=False)"
   ]
  },
  {
   "cell_type": "markdown",
   "metadata": {},
   "source": [
    "### Produce A Plot of Air Temp vs. Sales"
   ]
  },
  {
   "cell_type": "code",
   "execution_count": null,
   "metadata": {},
   "outputs": [],
   "source": [
    "data_6PM.plot(kind='scatter', x='Air Temp', y='Sales', figsize=(15, 10))"
   ]
  },
  {
   "cell_type": "markdown",
   "metadata": {},
   "source": [
    "### In Class Exercise:\n",
    "Repeat the steps above, but for store 10606"
   ]
  },
  {
   "cell_type": "markdown",
   "metadata": {
    "collapsed": true
   },
   "source": [
    "## Questions or Comments About This Notebook?\n",
    "Feel free to contact me via my LinkedIn: https://www.linkedin.com/in/william-j-henry <br>\n",
    "You can also email me at will@henryanalytics.com <br>"
   ]
  }
 ],
 "metadata": {
  "hide_input": false,
  "kernelspec": {
   "display_name": "Python 3",
   "language": "python",
   "name": "python3"
  },
  "language_info": {
   "codemirror_mode": {
    "name": "ipython",
    "version": 3
   },
   "file_extension": ".py",
   "mimetype": "text/x-python",
   "name": "python",
   "nbconvert_exporter": "python",
   "pygments_lexer": "ipython3",
   "version": "3.6.3"
  }
 },
 "nbformat": 4,
 "nbformat_minor": 2
}
