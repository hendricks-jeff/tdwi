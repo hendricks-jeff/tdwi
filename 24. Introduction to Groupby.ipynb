{
 "cells": [
  {
   "cell_type": "markdown",
   "metadata": {},
   "source": [
    "# Introduction to Groupby\n",
    "\n",
    "## Notebook Outline\n",
    "* <a href='#IntroToGroupby'>Introduction to Groupby</a>\n",
    "* <a href='#simplegroupstats'>Calculating Simple Statistics on Groups</a>\n",
    "* <a href='#agg'>Calculating Statistics on Multiple Columns in Groups, using .agg()</a>"
   ]
  },
  {
   "cell_type": "code",
   "execution_count": 1,
   "metadata": {},
   "outputs": [],
   "source": [
    "import pandas as pd\n",
    "import os"
   ]
  },
  {
   "cell_type": "markdown",
   "metadata": {},
   "source": [
    "# Introduction to Groupby\n",
    "\n",
    "The groupby method allows to group data in a dataframe by one or more columns to create a 'groupby object'. We can then analyze each of the groups to create per-group-statistics and analysis.  For example, the mean temperature per month (this involves grouping by the month) or the total sales per shift manager (this involves grouping by the manager). Let's look at some examples!\n",
    "\n",
    "<https://pandas.pydata.org/pandas-docs/stable/groupby.html>"
   ]
  },
  {
   "cell_type": "code",
   "execution_count": 2,
   "metadata": {},
   "outputs": [
    {
     "data": {
      "text/html": [
       "<div>\n",
       "<style scoped>\n",
       "    .dataframe tbody tr th:only-of-type {\n",
       "        vertical-align: middle;\n",
       "    }\n",
       "\n",
       "    .dataframe tbody tr th {\n",
       "        vertical-align: top;\n",
       "    }\n",
       "\n",
       "    .dataframe thead th {\n",
       "        text-align: right;\n",
       "    }\n",
       "</style>\n",
       "<table border=\"1\" class=\"dataframe\">\n",
       "  <thead>\n",
       "    <tr style=\"text-align: right;\">\n",
       "      <th></th>\n",
       "      <th>Year</th>\n",
       "      <th>Month</th>\n",
       "      <th>Day</th>\n",
       "      <th>Hour</th>\n",
       "      <th>Air Temp</th>\n",
       "      <th>Dew Point Temp</th>\n",
       "      <th>Sea Level Pressure</th>\n",
       "      <th>Wind Direction</th>\n",
       "      <th>Wind Speed Rate</th>\n",
       "      <th>Sky Condition Total Coverage Code</th>\n",
       "      <th>Liquid Precipitation Depth Dimension - 1Hr Duration</th>\n",
       "      <th>Liquid Precipitation Depth Dimension - Six Hour Duration</th>\n",
       "    </tr>\n",
       "  </thead>\n",
       "  <tbody>\n",
       "    <tr>\n",
       "      <th>0</th>\n",
       "      <td>2001</td>\n",
       "      <td>1</td>\n",
       "      <td>1</td>\n",
       "      <td>0</td>\n",
       "      <td>30.92</td>\n",
       "      <td>-94</td>\n",
       "      <td>10146</td>\n",
       "      <td>280</td>\n",
       "      <td>57</td>\n",
       "      <td>2</td>\n",
       "      <td>0</td>\n",
       "      <td>-9999</td>\n",
       "    </tr>\n",
       "    <tr>\n",
       "      <th>1</th>\n",
       "      <td>2001</td>\n",
       "      <td>1</td>\n",
       "      <td>1</td>\n",
       "      <td>1</td>\n",
       "      <td>30.02</td>\n",
       "      <td>-94</td>\n",
       "      <td>10153</td>\n",
       "      <td>280</td>\n",
       "      <td>57</td>\n",
       "      <td>4</td>\n",
       "      <td>0</td>\n",
       "      <td>-9999</td>\n",
       "    </tr>\n",
       "  </tbody>\n",
       "</table>\n",
       "</div>"
      ],
      "text/plain": [
       "   Year  Month  Day  Hour  Air Temp  Dew Point Temp  Sea Level Pressure  \\\n",
       "0  2001      1    1     0     30.92             -94               10146   \n",
       "1  2001      1    1     1     30.02             -94               10153   \n",
       "\n",
       "   Wind Direction  Wind Speed Rate  Sky Condition Total Coverage Code  \\\n",
       "0             280               57                                  2   \n",
       "1             280               57                                  4   \n",
       "\n",
       "   Liquid Precipitation Depth Dimension - 1Hr Duration  \\\n",
       "0                                                  0     \n",
       "1                                                  0     \n",
       "\n",
       "   Liquid Precipitation Depth Dimension - Six Hour Duration  \n",
       "0                                              -9999         \n",
       "1                                              -9999         "
      ]
     },
     "execution_count": 2,
     "metadata": {},
     "output_type": "execute_result"
    }
   ],
   "source": [
    "filepath = os.path.join(os.getcwd(), 'data', 'Philadelphia_Pennsylvania_USA/724080-13739-2001')\n",
    "\n",
    "headers = ['Year', 'Month', 'Day', 'Hour', 'Air Temp', 'Dew Point Temp', 'Sea Level Pressure',\n",
    "           'Wind Direction', 'Wind Speed Rate',\n",
    "           'Sky Condition Total Coverage Code',\n",
    "           'Liquid Precipitation Depth Dimension - 1Hr Duration',\n",
    "           'Liquid Precipitation Depth Dimension - Six Hour Duration']\n",
    "weatherData = pd.read_csv(filepath, delim_whitespace=True,\n",
    "                          names=headers)\n",
    "weatherData.loc[:, 'Air Temp'] = (weatherData['Air Temp']/10) * 1.8 + 32\n",
    "weatherData.head(2)"
   ]
  },
  {
   "cell_type": "markdown",
   "metadata": {},
   "source": [
    "#### Use .groupby() to group the data by the month"
   ]
  },
  {
   "cell_type": "code",
   "execution_count": 3,
   "metadata": {},
   "outputs": [],
   "source": [
    "monthGroups = weatherData.groupby(by='Month')"
   ]
  },
  {
   "cell_type": "code",
   "execution_count": 4,
   "metadata": {},
   "outputs": [
    {
     "data": {
      "text/plain": [
       "pandas.core.groupby.groupby.DataFrameGroupBy"
      ]
     },
     "execution_count": 4,
     "metadata": {},
     "output_type": "execute_result"
    }
   ],
   "source": [
    "type(monthGroups)"
   ]
  },
  {
   "cell_type": "markdown",
   "metadata": {},
   "source": [
    "#### Let's explore our groupby object using the .groups attribute and the .size() method.\n",
    "The .groups attribute will list the name of each group and the row index values that make up each group.\n",
    "\n",
    "The .size() method will print the size of each group"
   ]
  },
  {
   "cell_type": "code",
   "execution_count": 5,
   "metadata": {},
   "outputs": [
    {
     "data": {
      "text/plain": [
       "{1: Int64Index([  0,   1,   2,   3,   4,   5,   6,   7,   8,   9,\n",
       "             ...\n",
       "             734, 735, 736, 737, 738, 739, 740, 741, 742, 743],\n",
       "            dtype='int64', length=744),\n",
       " 2: Int64Index([ 744,  745,  746,  747,  748,  749,  750,  751,  752,  753,\n",
       "             ...\n",
       "             1406, 1407, 1408, 1409, 1410, 1411, 1412, 1413, 1414, 1415],\n",
       "            dtype='int64', length=672),\n",
       " 3: Int64Index([1416, 1417, 1418, 1419, 1420, 1421, 1422, 1423, 1424, 1425,\n",
       "             ...\n",
       "             2150, 2151, 2152, 2153, 2154, 2155, 2156, 2157, 2158, 2159],\n",
       "            dtype='int64', length=744),\n",
       " 4: Int64Index([2160, 2161, 2162, 2163, 2164, 2165, 2166, 2167, 2168, 2169,\n",
       "             ...\n",
       "             2870, 2871, 2872, 2873, 2874, 2875, 2876, 2877, 2878, 2879],\n",
       "            dtype='int64', length=720),\n",
       " 5: Int64Index([2880, 2881, 2882, 2883, 2884, 2885, 2886, 2887, 2888, 2889,\n",
       "             ...\n",
       "             3614, 3615, 3616, 3617, 3618, 3619, 3620, 3621, 3622, 3623],\n",
       "            dtype='int64', length=744),\n",
       " 6: Int64Index([3624, 3625, 3626, 3627, 3628, 3629, 3630, 3631, 3632, 3633,\n",
       "             ...\n",
       "             4334, 4335, 4336, 4337, 4338, 4339, 4340, 4341, 4342, 4343],\n",
       "            dtype='int64', length=720),\n",
       " 7: Int64Index([4344, 4345, 4346, 4347, 4348, 4349, 4350, 4351, 4352, 4353,\n",
       "             ...\n",
       "             5078, 5079, 5080, 5081, 5082, 5083, 5084, 5085, 5086, 5087],\n",
       "            dtype='int64', length=744),\n",
       " 8: Int64Index([5088, 5089, 5090, 5091, 5092, 5093, 5094, 5095, 5096, 5097,\n",
       "             ...\n",
       "             5822, 5823, 5824, 5825, 5826, 5827, 5828, 5829, 5830, 5831],\n",
       "            dtype='int64', length=744),\n",
       " 9: Int64Index([5832, 5833, 5834, 5835, 5836, 5837, 5838, 5839, 5840, 5841,\n",
       "             ...\n",
       "             6542, 6543, 6544, 6545, 6546, 6547, 6548, 6549, 6550, 6551],\n",
       "            dtype='int64', length=720),\n",
       " 10: Int64Index([6552, 6553, 6554, 6555, 6556, 6557, 6558, 6559, 6560, 6561,\n",
       "             ...\n",
       "             7286, 7287, 7288, 7289, 7290, 7291, 7292, 7293, 7294, 7295],\n",
       "            dtype='int64', length=744),\n",
       " 11: Int64Index([7296, 7297, 7298, 7299, 7300, 7301, 7302, 7303, 7304, 7305,\n",
       "             ...\n",
       "             8004, 8005, 8006, 8007, 8008, 8009, 8010, 8011, 8012, 8013],\n",
       "            dtype='int64', length=718),\n",
       " 12: Int64Index([8014, 8015, 8016, 8017, 8018, 8019, 8020, 8021, 8022, 8023,\n",
       "             ...\n",
       "             8748, 8749, 8750, 8751, 8752, 8753, 8754, 8755, 8756, 8757],\n",
       "            dtype='int64', length=744)}"
      ]
     },
     "execution_count": 5,
     "metadata": {},
     "output_type": "execute_result"
    }
   ],
   "source": [
    "monthGroups.groups"
   ]
  },
  {
   "cell_type": "code",
   "execution_count": 6,
   "metadata": {},
   "outputs": [
    {
     "data": {
      "text/plain": [
       "Month\n",
       "1     744\n",
       "2     672\n",
       "3     744\n",
       "4     720\n",
       "5     744\n",
       "6     720\n",
       "7     744\n",
       "8     744\n",
       "9     720\n",
       "10    744\n",
       "11    718\n",
       "12    744\n",
       "dtype: int64"
      ]
     },
     "execution_count": 6,
     "metadata": {},
     "output_type": "execute_result"
    }
   ],
   "source": [
    "# it's not surprising that the February group has a smaller size since there\n",
    "# are less days in February\n",
    "monthGroups.size()"
   ]
  },
  {
   "cell_type": "code",
   "execution_count": 7,
   "metadata": {},
   "outputs": [
    {
     "data": {
      "text/html": [
       "<div>\n",
       "<style scoped>\n",
       "    .dataframe tbody tr th:only-of-type {\n",
       "        vertical-align: middle;\n",
       "    }\n",
       "\n",
       "    .dataframe tbody tr th {\n",
       "        vertical-align: top;\n",
       "    }\n",
       "\n",
       "    .dataframe thead th {\n",
       "        text-align: right;\n",
       "    }\n",
       "</style>\n",
       "<table border=\"1\" class=\"dataframe\">\n",
       "  <thead>\n",
       "    <tr style=\"text-align: right;\">\n",
       "      <th></th>\n",
       "      <th>count</th>\n",
       "      <th>mean</th>\n",
       "      <th>std</th>\n",
       "      <th>min</th>\n",
       "      <th>25%</th>\n",
       "      <th>50%</th>\n",
       "      <th>75%</th>\n",
       "      <th>max</th>\n",
       "    </tr>\n",
       "    <tr>\n",
       "      <th>Month</th>\n",
       "      <th></th>\n",
       "      <th></th>\n",
       "      <th></th>\n",
       "      <th></th>\n",
       "      <th></th>\n",
       "      <th></th>\n",
       "      <th></th>\n",
       "      <th></th>\n",
       "    </tr>\n",
       "  </thead>\n",
       "  <tbody>\n",
       "    <tr>\n",
       "      <th>1</th>\n",
       "      <td>744.0</td>\n",
       "      <td>32.598790</td>\n",
       "      <td>6.414316</td>\n",
       "      <td>16.88</td>\n",
       "      <td>28.04</td>\n",
       "      <td>33.08</td>\n",
       "      <td>37.04</td>\n",
       "      <td>55.94</td>\n",
       "    </tr>\n",
       "    <tr>\n",
       "      <th>2</th>\n",
       "      <td>672.0</td>\n",
       "      <td>34.797232</td>\n",
       "      <td>70.133895</td>\n",
       "      <td>-1767.82</td>\n",
       "      <td>32.00</td>\n",
       "      <td>37.94</td>\n",
       "      <td>42.98</td>\n",
       "      <td>60.98</td>\n",
       "    </tr>\n",
       "    <tr>\n",
       "      <th>3</th>\n",
       "      <td>744.0</td>\n",
       "      <td>40.881210</td>\n",
       "      <td>6.699112</td>\n",
       "      <td>23.00</td>\n",
       "      <td>35.96</td>\n",
       "      <td>42.08</td>\n",
       "      <td>44.96</td>\n",
       "      <td>57.02</td>\n",
       "    </tr>\n",
       "    <tr>\n",
       "      <th>4</th>\n",
       "      <td>720.0</td>\n",
       "      <td>54.581500</td>\n",
       "      <td>10.520313</td>\n",
       "      <td>33.08</td>\n",
       "      <td>46.94</td>\n",
       "      <td>51.98</td>\n",
       "      <td>62.06</td>\n",
       "      <td>87.08</td>\n",
       "    </tr>\n",
       "    <tr>\n",
       "      <th>5</th>\n",
       "      <td>744.0</td>\n",
       "      <td>64.435806</td>\n",
       "      <td>8.740440</td>\n",
       "      <td>44.96</td>\n",
       "      <td>59.00</td>\n",
       "      <td>62.06</td>\n",
       "      <td>69.98</td>\n",
       "      <td>89.96</td>\n",
       "    </tr>\n",
       "    <tr>\n",
       "      <th>6</th>\n",
       "      <td>720.0</td>\n",
       "      <td>74.812750</td>\n",
       "      <td>7.926133</td>\n",
       "      <td>51.98</td>\n",
       "      <td>69.98</td>\n",
       "      <td>73.94</td>\n",
       "      <td>80.06</td>\n",
       "      <td>93.92</td>\n",
       "    </tr>\n",
       "    <tr>\n",
       "      <th>7</th>\n",
       "      <td>744.0</td>\n",
       "      <td>75.186452</td>\n",
       "      <td>7.108172</td>\n",
       "      <td>57.92</td>\n",
       "      <td>69.98</td>\n",
       "      <td>75.02</td>\n",
       "      <td>80.06</td>\n",
       "      <td>93.02</td>\n",
       "    </tr>\n",
       "    <tr>\n",
       "      <th>8</th>\n",
       "      <td>744.0</td>\n",
       "      <td>79.069516</td>\n",
       "      <td>6.782238</td>\n",
       "      <td>64.04</td>\n",
       "      <td>73.94</td>\n",
       "      <td>78.08</td>\n",
       "      <td>84.02</td>\n",
       "      <td>100.04</td>\n",
       "    </tr>\n",
       "    <tr>\n",
       "      <th>9</th>\n",
       "      <td>720.0</td>\n",
       "      <td>68.319000</td>\n",
       "      <td>8.468815</td>\n",
       "      <td>48.92</td>\n",
       "      <td>62.96</td>\n",
       "      <td>69.08</td>\n",
       "      <td>75.02</td>\n",
       "      <td>84.92</td>\n",
       "    </tr>\n",
       "    <tr>\n",
       "      <th>10</th>\n",
       "      <td>744.0</td>\n",
       "      <td>58.796048</td>\n",
       "      <td>10.290392</td>\n",
       "      <td>37.04</td>\n",
       "      <td>51.08</td>\n",
       "      <td>57.92</td>\n",
       "      <td>66.92</td>\n",
       "      <td>82.04</td>\n",
       "    </tr>\n",
       "    <tr>\n",
       "      <th>11</th>\n",
       "      <td>718.0</td>\n",
       "      <td>52.939164</td>\n",
       "      <td>9.046250</td>\n",
       "      <td>30.92</td>\n",
       "      <td>46.94</td>\n",
       "      <td>53.06</td>\n",
       "      <td>59.00</td>\n",
       "      <td>75.92</td>\n",
       "    </tr>\n",
       "    <tr>\n",
       "      <th>12</th>\n",
       "      <td>744.0</td>\n",
       "      <td>44.056613</td>\n",
       "      <td>10.457353</td>\n",
       "      <td>21.02</td>\n",
       "      <td>35.96</td>\n",
       "      <td>44.06</td>\n",
       "      <td>51.08</td>\n",
       "      <td>71.96</td>\n",
       "    </tr>\n",
       "  </tbody>\n",
       "</table>\n",
       "</div>"
      ],
      "text/plain": [
       "       count       mean        std      min    25%    50%    75%     max\n",
       "Month                                                                   \n",
       "1      744.0  32.598790   6.414316    16.88  28.04  33.08  37.04   55.94\n",
       "2      672.0  34.797232  70.133895 -1767.82  32.00  37.94  42.98   60.98\n",
       "3      744.0  40.881210   6.699112    23.00  35.96  42.08  44.96   57.02\n",
       "4      720.0  54.581500  10.520313    33.08  46.94  51.98  62.06   87.08\n",
       "5      744.0  64.435806   8.740440    44.96  59.00  62.06  69.98   89.96\n",
       "6      720.0  74.812750   7.926133    51.98  69.98  73.94  80.06   93.92\n",
       "7      744.0  75.186452   7.108172    57.92  69.98  75.02  80.06   93.02\n",
       "8      744.0  79.069516   6.782238    64.04  73.94  78.08  84.02  100.04\n",
       "9      720.0  68.319000   8.468815    48.92  62.96  69.08  75.02   84.92\n",
       "10     744.0  58.796048  10.290392    37.04  51.08  57.92  66.92   82.04\n",
       "11     718.0  52.939164   9.046250    30.92  46.94  53.06  59.00   75.92\n",
       "12     744.0  44.056613  10.457353    21.02  35.96  44.06  51.08   71.96"
      ]
     },
     "execution_count": 7,
     "metadata": {},
     "output_type": "execute_result"
    }
   ],
   "source": [
    "monthGroups['Air Temp'].describe()"
   ]
  },
  {
   "cell_type": "markdown",
   "metadata": {},
   "source": [
    "#### Getting groups using the .get_group() method\n",
    "We can get a specific group by using the .get_group method. We just need to pass the name of the group which will be one of the values that we grouped by. See the example below"
   ]
  },
  {
   "cell_type": "code",
   "execution_count": null,
   "metadata": {},
   "outputs": [],
   "source": [
    "# To get the March group we do the following:\n",
    "marchData = monthGroups.get_group(3)\n",
    "marchData.head(3)"
   ]
  },
  {
   "cell_type": "markdown",
   "metadata": {},
   "source": [
    "### In Class Exercise\n",
    "Create a new goupby object (something other than grouping by month). Explore it using the methods above."
   ]
  },
  {
   "cell_type": "code",
   "execution_count": 9,
   "metadata": {},
   "outputs": [],
   "source": [
    "hourGroups=weatherData.groupby('Hour')"
   ]
  },
  {
   "cell_type": "code",
   "execution_count": 12,
   "metadata": {},
   "outputs": [
    {
     "data": {
      "text/html": [
       "<div>\n",
       "<style scoped>\n",
       "    .dataframe tbody tr th:only-of-type {\n",
       "        vertical-align: middle;\n",
       "    }\n",
       "\n",
       "    .dataframe tbody tr th {\n",
       "        vertical-align: top;\n",
       "    }\n",
       "\n",
       "    .dataframe thead th {\n",
       "        text-align: right;\n",
       "    }\n",
       "</style>\n",
       "<table border=\"1\" class=\"dataframe\">\n",
       "  <thead>\n",
       "    <tr style=\"text-align: right;\">\n",
       "      <th></th>\n",
       "      <th>count</th>\n",
       "      <th>mean</th>\n",
       "      <th>std</th>\n",
       "      <th>min</th>\n",
       "      <th>25%</th>\n",
       "      <th>50%</th>\n",
       "      <th>75%</th>\n",
       "      <th>max</th>\n",
       "    </tr>\n",
       "    <tr>\n",
       "      <th>Hour</th>\n",
       "      <th></th>\n",
       "      <th></th>\n",
       "      <th></th>\n",
       "      <th></th>\n",
       "      <th></th>\n",
       "      <th></th>\n",
       "      <th></th>\n",
       "      <th></th>\n",
       "    </tr>\n",
       "  </thead>\n",
       "  <tbody>\n",
       "    <tr>\n",
       "      <th>0</th>\n",
       "      <td>365.0</td>\n",
       "      <td>41.884932</td>\n",
       "      <td>19.099880</td>\n",
       "      <td>0.0</td>\n",
       "      <td>31.0</td>\n",
       "      <td>41.0</td>\n",
       "      <td>52.0</td>\n",
       "      <td>118.0</td>\n",
       "    </tr>\n",
       "    <tr>\n",
       "      <th>1</th>\n",
       "      <td>365.0</td>\n",
       "      <td>40.090411</td>\n",
       "      <td>20.374382</td>\n",
       "      <td>0.0</td>\n",
       "      <td>26.0</td>\n",
       "      <td>36.0</td>\n",
       "      <td>52.0</td>\n",
       "      <td>170.0</td>\n",
       "    </tr>\n",
       "    <tr>\n",
       "      <th>2</th>\n",
       "      <td>365.0</td>\n",
       "      <td>37.600000</td>\n",
       "      <td>20.545554</td>\n",
       "      <td>0.0</td>\n",
       "      <td>26.0</td>\n",
       "      <td>36.0</td>\n",
       "      <td>46.0</td>\n",
       "      <td>124.0</td>\n",
       "    </tr>\n",
       "    <tr>\n",
       "      <th>3</th>\n",
       "      <td>365.0</td>\n",
       "      <td>35.331507</td>\n",
       "      <td>19.972707</td>\n",
       "      <td>0.0</td>\n",
       "      <td>21.0</td>\n",
       "      <td>31.0</td>\n",
       "      <td>46.0</td>\n",
       "      <td>103.0</td>\n",
       "    </tr>\n",
       "    <tr>\n",
       "      <th>4</th>\n",
       "      <td>365.0</td>\n",
       "      <td>33.602740</td>\n",
       "      <td>18.926506</td>\n",
       "      <td>0.0</td>\n",
       "      <td>21.0</td>\n",
       "      <td>31.0</td>\n",
       "      <td>41.0</td>\n",
       "      <td>98.0</td>\n",
       "    </tr>\n",
       "    <tr>\n",
       "      <th>5</th>\n",
       "      <td>365.0</td>\n",
       "      <td>33.084932</td>\n",
       "      <td>20.046811</td>\n",
       "      <td>0.0</td>\n",
       "      <td>21.0</td>\n",
       "      <td>31.0</td>\n",
       "      <td>41.0</td>\n",
       "      <td>108.0</td>\n",
       "    </tr>\n",
       "    <tr>\n",
       "      <th>6</th>\n",
       "      <td>365.0</td>\n",
       "      <td>32.290411</td>\n",
       "      <td>20.335862</td>\n",
       "      <td>0.0</td>\n",
       "      <td>21.0</td>\n",
       "      <td>31.0</td>\n",
       "      <td>41.0</td>\n",
       "      <td>108.0</td>\n",
       "    </tr>\n",
       "    <tr>\n",
       "      <th>7</th>\n",
       "      <td>365.0</td>\n",
       "      <td>31.369863</td>\n",
       "      <td>19.662473</td>\n",
       "      <td>0.0</td>\n",
       "      <td>21.0</td>\n",
       "      <td>31.0</td>\n",
       "      <td>41.0</td>\n",
       "      <td>103.0</td>\n",
       "    </tr>\n",
       "    <tr>\n",
       "      <th>8</th>\n",
       "      <td>365.0</td>\n",
       "      <td>4.293151</td>\n",
       "      <td>525.416950</td>\n",
       "      <td>-9999.0</td>\n",
       "      <td>21.0</td>\n",
       "      <td>31.0</td>\n",
       "      <td>41.0</td>\n",
       "      <td>103.0</td>\n",
       "    </tr>\n",
       "    <tr>\n",
       "      <th>9</th>\n",
       "      <td>365.0</td>\n",
       "      <td>31.589041</td>\n",
       "      <td>20.465487</td>\n",
       "      <td>0.0</td>\n",
       "      <td>21.0</td>\n",
       "      <td>31.0</td>\n",
       "      <td>41.0</td>\n",
       "      <td>103.0</td>\n",
       "    </tr>\n",
       "    <tr>\n",
       "      <th>10</th>\n",
       "      <td>365.0</td>\n",
       "      <td>30.958904</td>\n",
       "      <td>21.168891</td>\n",
       "      <td>0.0</td>\n",
       "      <td>15.0</td>\n",
       "      <td>31.0</td>\n",
       "      <td>41.0</td>\n",
       "      <td>108.0</td>\n",
       "    </tr>\n",
       "    <tr>\n",
       "      <th>11</th>\n",
       "      <td>365.0</td>\n",
       "      <td>6.117808</td>\n",
       "      <td>525.545394</td>\n",
       "      <td>-9999.0</td>\n",
       "      <td>21.0</td>\n",
       "      <td>31.0</td>\n",
       "      <td>46.0</td>\n",
       "      <td>118.0</td>\n",
       "    </tr>\n",
       "    <tr>\n",
       "      <th>12</th>\n",
       "      <td>365.0</td>\n",
       "      <td>34.860274</td>\n",
       "      <td>21.234036</td>\n",
       "      <td>0.0</td>\n",
       "      <td>21.0</td>\n",
       "      <td>31.0</td>\n",
       "      <td>46.0</td>\n",
       "      <td>129.0</td>\n",
       "    </tr>\n",
       "    <tr>\n",
       "      <th>13</th>\n",
       "      <td>365.0</td>\n",
       "      <td>38.227397</td>\n",
       "      <td>20.960987</td>\n",
       "      <td>0.0</td>\n",
       "      <td>26.0</td>\n",
       "      <td>36.0</td>\n",
       "      <td>52.0</td>\n",
       "      <td>103.0</td>\n",
       "    </tr>\n",
       "    <tr>\n",
       "      <th>14</th>\n",
       "      <td>364.0</td>\n",
       "      <td>41.925824</td>\n",
       "      <td>22.601043</td>\n",
       "      <td>0.0</td>\n",
       "      <td>26.0</td>\n",
       "      <td>41.0</td>\n",
       "      <td>57.0</td>\n",
       "      <td>124.0</td>\n",
       "    </tr>\n",
       "    <tr>\n",
       "      <th>15</th>\n",
       "      <td>365.0</td>\n",
       "      <td>44.054795</td>\n",
       "      <td>23.250364</td>\n",
       "      <td>0.0</td>\n",
       "      <td>31.0</td>\n",
       "      <td>41.0</td>\n",
       "      <td>57.0</td>\n",
       "      <td>129.0</td>\n",
       "    </tr>\n",
       "    <tr>\n",
       "      <th>16</th>\n",
       "      <td>365.0</td>\n",
       "      <td>45.008219</td>\n",
       "      <td>22.911138</td>\n",
       "      <td>0.0</td>\n",
       "      <td>31.0</td>\n",
       "      <td>41.0</td>\n",
       "      <td>57.0</td>\n",
       "      <td>113.0</td>\n",
       "    </tr>\n",
       "    <tr>\n",
       "      <th>17</th>\n",
       "      <td>364.0</td>\n",
       "      <td>48.565934</td>\n",
       "      <td>24.261058</td>\n",
       "      <td>0.0</td>\n",
       "      <td>31.0</td>\n",
       "      <td>46.0</td>\n",
       "      <td>62.0</td>\n",
       "      <td>134.0</td>\n",
       "    </tr>\n",
       "    <tr>\n",
       "      <th>18</th>\n",
       "      <td>365.0</td>\n",
       "      <td>24.605479</td>\n",
       "      <td>526.668133</td>\n",
       "      <td>-9999.0</td>\n",
       "      <td>36.0</td>\n",
       "      <td>52.0</td>\n",
       "      <td>67.0</td>\n",
       "      <td>139.0</td>\n",
       "    </tr>\n",
       "    <tr>\n",
       "      <th>19</th>\n",
       "      <td>365.0</td>\n",
       "      <td>52.515068</td>\n",
       "      <td>23.325761</td>\n",
       "      <td>0.0</td>\n",
       "      <td>36.0</td>\n",
       "      <td>52.0</td>\n",
       "      <td>62.0</td>\n",
       "      <td>129.0</td>\n",
       "    </tr>\n",
       "    <tr>\n",
       "      <th>20</th>\n",
       "      <td>365.0</td>\n",
       "      <td>51.345205</td>\n",
       "      <td>23.494359</td>\n",
       "      <td>0.0</td>\n",
       "      <td>36.0</td>\n",
       "      <td>52.0</td>\n",
       "      <td>67.0</td>\n",
       "      <td>129.0</td>\n",
       "    </tr>\n",
       "    <tr>\n",
       "      <th>21</th>\n",
       "      <td>365.0</td>\n",
       "      <td>51.027397</td>\n",
       "      <td>22.177959</td>\n",
       "      <td>0.0</td>\n",
       "      <td>36.0</td>\n",
       "      <td>52.0</td>\n",
       "      <td>67.0</td>\n",
       "      <td>118.0</td>\n",
       "    </tr>\n",
       "    <tr>\n",
       "      <th>22</th>\n",
       "      <td>365.0</td>\n",
       "      <td>49.186301</td>\n",
       "      <td>22.029783</td>\n",
       "      <td>0.0</td>\n",
       "      <td>36.0</td>\n",
       "      <td>46.0</td>\n",
       "      <td>62.0</td>\n",
       "      <td>139.0</td>\n",
       "    </tr>\n",
       "    <tr>\n",
       "      <th>23</th>\n",
       "      <td>365.0</td>\n",
       "      <td>45.515068</td>\n",
       "      <td>19.467017</td>\n",
       "      <td>0.0</td>\n",
       "      <td>36.0</td>\n",
       "      <td>46.0</td>\n",
       "      <td>57.0</td>\n",
       "      <td>118.0</td>\n",
       "    </tr>\n",
       "  </tbody>\n",
       "</table>\n",
       "</div>"
      ],
      "text/plain": [
       "      count       mean         std     min   25%   50%   75%    max\n",
       "Hour                                                               \n",
       "0     365.0  41.884932   19.099880     0.0  31.0  41.0  52.0  118.0\n",
       "1     365.0  40.090411   20.374382     0.0  26.0  36.0  52.0  170.0\n",
       "2     365.0  37.600000   20.545554     0.0  26.0  36.0  46.0  124.0\n",
       "3     365.0  35.331507   19.972707     0.0  21.0  31.0  46.0  103.0\n",
       "4     365.0  33.602740   18.926506     0.0  21.0  31.0  41.0   98.0\n",
       "5     365.0  33.084932   20.046811     0.0  21.0  31.0  41.0  108.0\n",
       "6     365.0  32.290411   20.335862     0.0  21.0  31.0  41.0  108.0\n",
       "7     365.0  31.369863   19.662473     0.0  21.0  31.0  41.0  103.0\n",
       "8     365.0   4.293151  525.416950 -9999.0  21.0  31.0  41.0  103.0\n",
       "9     365.0  31.589041   20.465487     0.0  21.0  31.0  41.0  103.0\n",
       "10    365.0  30.958904   21.168891     0.0  15.0  31.0  41.0  108.0\n",
       "11    365.0   6.117808  525.545394 -9999.0  21.0  31.0  46.0  118.0\n",
       "12    365.0  34.860274   21.234036     0.0  21.0  31.0  46.0  129.0\n",
       "13    365.0  38.227397   20.960987     0.0  26.0  36.0  52.0  103.0\n",
       "14    364.0  41.925824   22.601043     0.0  26.0  41.0  57.0  124.0\n",
       "15    365.0  44.054795   23.250364     0.0  31.0  41.0  57.0  129.0\n",
       "16    365.0  45.008219   22.911138     0.0  31.0  41.0  57.0  113.0\n",
       "17    364.0  48.565934   24.261058     0.0  31.0  46.0  62.0  134.0\n",
       "18    365.0  24.605479  526.668133 -9999.0  36.0  52.0  67.0  139.0\n",
       "19    365.0  52.515068   23.325761     0.0  36.0  52.0  62.0  129.0\n",
       "20    365.0  51.345205   23.494359     0.0  36.0  52.0  67.0  129.0\n",
       "21    365.0  51.027397   22.177959     0.0  36.0  52.0  67.0  118.0\n",
       "22    365.0  49.186301   22.029783     0.0  36.0  46.0  62.0  139.0\n",
       "23    365.0  45.515068   19.467017     0.0  36.0  46.0  57.0  118.0"
      ]
     },
     "execution_count": 12,
     "metadata": {},
     "output_type": "execute_result"
    }
   ],
   "source": [
    "hourGroups['Wind Speed Rate'].describe()"
   ]
  },
  {
   "cell_type": "markdown",
   "metadata": {},
   "source": [
    "# Calculating Simple Statistics on Groups"
   ]
  },
  {
   "cell_type": "markdown",
   "metadata": {},
   "source": [
    "#### Now let's use the .mean(), .min(), and .max() methods on the groupby object to find the mean, min, and max air temperature of each month.\n",
    "\n",
    "Note that operating on a groupby will return a DataFrame or Series depending on what the operation is."
   ]
  },
  {
   "cell_type": "code",
   "execution_count": 13,
   "metadata": {
    "run_control": {
     "marked": false
    }
   },
   "outputs": [
    {
     "name": "stdout",
     "output_type": "stream",
     "text": [
      "<class 'pandas.core.series.Series'>\n"
     ]
    },
    {
     "data": {
      "text/plain": [
       "Month\n",
       "1     32.598790\n",
       "2     34.797232\n",
       "3     40.881210\n",
       "4     54.581500\n",
       "5     64.435806\n",
       "6     74.812750\n",
       "7     75.186452\n",
       "8     79.069516\n",
       "9     68.319000\n",
       "10    58.796048\n",
       "11    52.939164\n",
       "12    44.056613\n",
       "Name: Air Temp, dtype: float64"
      ]
     },
     "execution_count": 13,
     "metadata": {},
     "output_type": "execute_result"
    }
   ],
   "source": [
    "monthlyMeanTemps = monthGroups['Air Temp'].mean()\n",
    "print(type(monthlyMeanTemps))\n",
    "monthlyMeanTemps"
   ]
  },
  {
   "cell_type": "code",
   "execution_count": null,
   "metadata": {},
   "outputs": [],
   "source": [
    "monthGroups['Air Temp'].max()"
   ]
  },
  {
   "cell_type": "code",
   "execution_count": null,
   "metadata": {},
   "outputs": [],
   "source": [
    "monthGroups['Air Temp'].min()"
   ]
  },
  {
   "cell_type": "markdown",
   "metadata": {},
   "source": [
    "#### We found a missing value! As a review, let's use some of what we have learned to take a closer look and fix it!\n",
    "\n",
    "First let's use .loc[] and boolean series to find all values less than 10 (which is already 6 degrees lower than the minimum temp in January). The reason we do this is that I want to see if there are any other bad data points."
   ]
  },
  {
   "cell_type": "code",
   "execution_count": 16,
   "metadata": {},
   "outputs": [
    {
     "data": {
      "text/html": [
       "<div>\n",
       "<style scoped>\n",
       "    .dataframe tbody tr th:only-of-type {\n",
       "        vertical-align: middle;\n",
       "    }\n",
       "\n",
       "    .dataframe tbody tr th {\n",
       "        vertical-align: top;\n",
       "    }\n",
       "\n",
       "    .dataframe thead th {\n",
       "        text-align: right;\n",
       "    }\n",
       "</style>\n",
       "<table border=\"1\" class=\"dataframe\">\n",
       "  <thead>\n",
       "    <tr style=\"text-align: right;\">\n",
       "      <th></th>\n",
       "      <th>Year</th>\n",
       "      <th>Month</th>\n",
       "      <th>Day</th>\n",
       "      <th>Hour</th>\n",
       "      <th>Air Temp</th>\n",
       "      <th>Dew Point Temp</th>\n",
       "      <th>Sea Level Pressure</th>\n",
       "      <th>Wind Direction</th>\n",
       "      <th>Wind Speed Rate</th>\n",
       "      <th>Sky Condition Total Coverage Code</th>\n",
       "      <th>Liquid Precipitation Depth Dimension - 1Hr Duration</th>\n",
       "      <th>Liquid Precipitation Depth Dimension - Six Hour Duration</th>\n",
       "    </tr>\n",
       "  </thead>\n",
       "  <tbody>\n",
       "    <tr>\n",
       "      <th>1352</th>\n",
       "      <td>2001</td>\n",
       "      <td>2</td>\n",
       "      <td>26</td>\n",
       "      <td>8</td>\n",
       "      <td>-1767.82</td>\n",
       "      <td>-9999</td>\n",
       "      <td>10130</td>\n",
       "      <td>230</td>\n",
       "      <td>26</td>\n",
       "      <td>0</td>\n",
       "      <td>0</td>\n",
       "      <td>-9999</td>\n",
       "    </tr>\n",
       "  </tbody>\n",
       "</table>\n",
       "</div>"
      ],
      "text/plain": [
       "      Year  Month  Day  Hour  Air Temp  Dew Point Temp  Sea Level Pressure  \\\n",
       "1352  2001      2   26     8  -1767.82           -9999               10130   \n",
       "\n",
       "      Wind Direction  Wind Speed Rate  Sky Condition Total Coverage Code  \\\n",
       "1352             230               26                                  0   \n",
       "\n",
       "      Liquid Precipitation Depth Dimension - 1Hr Duration  \\\n",
       "1352                                                  0     \n",
       "\n",
       "      Liquid Precipitation Depth Dimension - Six Hour Duration  \n",
       "1352                                              -9999         "
      ]
     },
     "execution_count": 16,
     "metadata": {},
     "output_type": "execute_result"
    }
   ],
   "source": [
    "weatherData.loc[weatherData['Air Temp'] < 10, :]"
   ]
  },
  {
   "cell_type": "markdown",
   "metadata": {},
   "source": [
    "#### Let's replace it with the a linear interpolation between hour 7 and hour 9..\n",
    "There are a few ways we can do this. For now, I am just going to use the .loc method to grab the rows corresponding to 2001-2-26 hours 7 and 9.\n",
    "\n",
    "As a review, I will do this in a few steps:\n",
    "* First I will use .loc to get the appropriate rows.\n",
    "* Then, I will use .loc to get the rows for only the 'Air Temp' column\n",
    "* Then, I will use the .mean() to get the mean value (same as a basic linear interpolation) all in one line."
   ]
  },
  {
   "cell_type": "code",
   "execution_count": 17,
   "metadata": {},
   "outputs": [
    {
     "data": {
      "text/html": [
       "<div>\n",
       "<style scoped>\n",
       "    .dataframe tbody tr th:only-of-type {\n",
       "        vertical-align: middle;\n",
       "    }\n",
       "\n",
       "    .dataframe tbody tr th {\n",
       "        vertical-align: top;\n",
       "    }\n",
       "\n",
       "    .dataframe thead th {\n",
       "        text-align: right;\n",
       "    }\n",
       "</style>\n",
       "<table border=\"1\" class=\"dataframe\">\n",
       "  <thead>\n",
       "    <tr style=\"text-align: right;\">\n",
       "      <th></th>\n",
       "      <th>Year</th>\n",
       "      <th>Month</th>\n",
       "      <th>Day</th>\n",
       "      <th>Hour</th>\n",
       "      <th>Air Temp</th>\n",
       "      <th>Dew Point Temp</th>\n",
       "      <th>Sea Level Pressure</th>\n",
       "      <th>Wind Direction</th>\n",
       "      <th>Wind Speed Rate</th>\n",
       "      <th>Sky Condition Total Coverage Code</th>\n",
       "      <th>Liquid Precipitation Depth Dimension - 1Hr Duration</th>\n",
       "      <th>Liquid Precipitation Depth Dimension - Six Hour Duration</th>\n",
       "    </tr>\n",
       "  </thead>\n",
       "  <tbody>\n",
       "    <tr>\n",
       "      <th>1351</th>\n",
       "      <td>2001</td>\n",
       "      <td>2</td>\n",
       "      <td>26</td>\n",
       "      <td>7</td>\n",
       "      <td>50.0</td>\n",
       "      <td>90</td>\n",
       "      <td>10124</td>\n",
       "      <td>240</td>\n",
       "      <td>31</td>\n",
       "      <td>4</td>\n",
       "      <td>0</td>\n",
       "      <td>-9999</td>\n",
       "    </tr>\n",
       "    <tr>\n",
       "      <th>1353</th>\n",
       "      <td>2001</td>\n",
       "      <td>2</td>\n",
       "      <td>26</td>\n",
       "      <td>9</td>\n",
       "      <td>48.2</td>\n",
       "      <td>75</td>\n",
       "      <td>10136</td>\n",
       "      <td>310</td>\n",
       "      <td>46</td>\n",
       "      <td>0</td>\n",
       "      <td>0</td>\n",
       "      <td>-9999</td>\n",
       "    </tr>\n",
       "  </tbody>\n",
       "</table>\n",
       "</div>"
      ],
      "text/plain": [
       "      Year  Month  Day  Hour  Air Temp  Dew Point Temp  Sea Level Pressure  \\\n",
       "1351  2001      2   26     7      50.0              90               10124   \n",
       "1353  2001      2   26     9      48.2              75               10136   \n",
       "\n",
       "      Wind Direction  Wind Speed Rate  Sky Condition Total Coverage Code  \\\n",
       "1351             240               31                                  4   \n",
       "1353             310               46                                  0   \n",
       "\n",
       "      Liquid Precipitation Depth Dimension - 1Hr Duration  \\\n",
       "1351                                                  0     \n",
       "1353                                                  0     \n",
       "\n",
       "      Liquid Precipitation Depth Dimension - Six Hour Duration  \n",
       "1351                                              -9999         \n",
       "1353                                              -9999         "
      ]
     },
     "execution_count": 17,
     "metadata": {},
     "output_type": "execute_result"
    }
   ],
   "source": [
    "weatherData.loc[(weatherData['Month'] == 2) & (weatherData['Day'] == 26) &\n",
    "                (weatherData['Hour'].isin([7, 9])), :]"
   ]
  },
  {
   "cell_type": "code",
   "execution_count": 18,
   "metadata": {},
   "outputs": [
    {
     "data": {
      "text/plain": [
       "1351    50.0\n",
       "1353    48.2\n",
       "Name: Air Temp, dtype: float64"
      ]
     },
     "execution_count": 18,
     "metadata": {},
     "output_type": "execute_result"
    }
   ],
   "source": [
    "weatherData.loc[(weatherData['Month'] == 2) & (weatherData['Day'] == 26) &\n",
    "                (weatherData['Hour'].isin([7, 9])), 'Air Temp']"
   ]
  },
  {
   "cell_type": "code",
   "execution_count": 19,
   "metadata": {},
   "outputs": [
    {
     "data": {
      "text/plain": [
       "49.1"
      ]
     },
     "execution_count": 19,
     "metadata": {},
     "output_type": "execute_result"
    }
   ],
   "source": [
    "weatherData.loc[(weatherData['Month'] == 2) & (weatherData['Day'] == 26) &\n",
    "                (weatherData['Hour'].isin([7, 9])), 'Air Temp'].mean()"
   ]
  },
  {
   "cell_type": "markdown",
   "metadata": {},
   "source": [
    "#### Let's fill the bad value with this estimated value, using the .loc method.\n",
    "Note that the row label of the row with the bad value is 1352. We will use that. Remember this is not the only way, this is just one way.\n",
    "\n",
    "Note that the '\\' allows me to continue the line of code on the next line. I will explain in lecture.\n",
    "\n",
    "Also note that you must spell your columns names correctly - or you may accidentally add a new column!"
   ]
  },
  {
   "cell_type": "code",
   "execution_count": 20,
   "metadata": {},
   "outputs": [],
   "source": [
    "weatherData.loc[1352, 'Air Temp'] = \\\n",
    "    weatherData.loc[(weatherData['Month'] == 2) & (weatherData['Day'] == 26) &\n",
    "                    (weatherData['Hour'].isin([7, 9])), 'Air Temp'].mean()"
   ]
  },
  {
   "cell_type": "markdown",
   "metadata": {},
   "source": [
    "#### Finally, find the minimum temps of each month."
   ]
  },
  {
   "cell_type": "code",
   "execution_count": 21,
   "metadata": {},
   "outputs": [
    {
     "data": {
      "text/plain": [
       "Month\n",
       "1     16.88\n",
       "2     19.94\n",
       "3     23.00\n",
       "4     33.08\n",
       "5     44.96\n",
       "6     51.98\n",
       "7     57.92\n",
       "8     64.04\n",
       "9     48.92\n",
       "10    37.04\n",
       "11    30.92\n",
       "12    21.02\n",
       "Name: Air Temp, dtype: float64"
      ]
     },
     "execution_count": 21,
     "metadata": {},
     "output_type": "execute_result"
    }
   ],
   "source": [
    "monthGroups['Air Temp'].min()"
   ]
  },
  {
   "cell_type": "markdown",
   "metadata": {},
   "source": [
    "# Using the .agg() method on a groupby objects\n",
    "We can use the .agg() (short for aggregate) method on a group by object to calculate multiple statistics. Let's use the monthGroups object we have already created.\n",
    "\n",
    "Docs are here: <https://pandas.pydata.org/pandas-docs/stable/generated/pandas.core.groupby.DataFrameGroupBy.agg.html>"
   ]
  },
  {
   "cell_type": "code",
   "execution_count": 22,
   "metadata": {},
   "outputs": [
    {
     "data": {
      "text/html": [
       "<div>\n",
       "<style scoped>\n",
       "    .dataframe tbody tr th:only-of-type {\n",
       "        vertical-align: middle;\n",
       "    }\n",
       "\n",
       "    .dataframe tbody tr th {\n",
       "        vertical-align: top;\n",
       "    }\n",
       "\n",
       "    .dataframe thead th {\n",
       "        text-align: right;\n",
       "    }\n",
       "</style>\n",
       "<table border=\"1\" class=\"dataframe\">\n",
       "  <thead>\n",
       "    <tr style=\"text-align: right;\">\n",
       "      <th></th>\n",
       "      <th>min</th>\n",
       "      <th>mean</th>\n",
       "      <th>max</th>\n",
       "      <th>std</th>\n",
       "    </tr>\n",
       "    <tr>\n",
       "      <th>Month</th>\n",
       "      <th></th>\n",
       "      <th></th>\n",
       "      <th></th>\n",
       "      <th></th>\n",
       "    </tr>\n",
       "  </thead>\n",
       "  <tbody>\n",
       "    <tr>\n",
       "      <th>1</th>\n",
       "      <td>16.88</td>\n",
       "      <td>32.598790</td>\n",
       "      <td>55.94</td>\n",
       "      <td>6.414316</td>\n",
       "    </tr>\n",
       "    <tr>\n",
       "      <th>2</th>\n",
       "      <td>19.94</td>\n",
       "      <td>37.500982</td>\n",
       "      <td>60.98</td>\n",
       "      <td>8.311494</td>\n",
       "    </tr>\n",
       "    <tr>\n",
       "      <th>3</th>\n",
       "      <td>23.00</td>\n",
       "      <td>40.881210</td>\n",
       "      <td>57.02</td>\n",
       "      <td>6.699112</td>\n",
       "    </tr>\n",
       "    <tr>\n",
       "      <th>4</th>\n",
       "      <td>33.08</td>\n",
       "      <td>54.581500</td>\n",
       "      <td>87.08</td>\n",
       "      <td>10.520313</td>\n",
       "    </tr>\n",
       "    <tr>\n",
       "      <th>5</th>\n",
       "      <td>44.96</td>\n",
       "      <td>64.435806</td>\n",
       "      <td>89.96</td>\n",
       "      <td>8.740440</td>\n",
       "    </tr>\n",
       "    <tr>\n",
       "      <th>6</th>\n",
       "      <td>51.98</td>\n",
       "      <td>74.812750</td>\n",
       "      <td>93.92</td>\n",
       "      <td>7.926133</td>\n",
       "    </tr>\n",
       "    <tr>\n",
       "      <th>7</th>\n",
       "      <td>57.92</td>\n",
       "      <td>75.186452</td>\n",
       "      <td>93.02</td>\n",
       "      <td>7.108172</td>\n",
       "    </tr>\n",
       "    <tr>\n",
       "      <th>8</th>\n",
       "      <td>64.04</td>\n",
       "      <td>79.069516</td>\n",
       "      <td>100.04</td>\n",
       "      <td>6.782238</td>\n",
       "    </tr>\n",
       "    <tr>\n",
       "      <th>9</th>\n",
       "      <td>48.92</td>\n",
       "      <td>68.319000</td>\n",
       "      <td>84.92</td>\n",
       "      <td>8.468815</td>\n",
       "    </tr>\n",
       "    <tr>\n",
       "      <th>10</th>\n",
       "      <td>37.04</td>\n",
       "      <td>58.796048</td>\n",
       "      <td>82.04</td>\n",
       "      <td>10.290392</td>\n",
       "    </tr>\n",
       "    <tr>\n",
       "      <th>11</th>\n",
       "      <td>30.92</td>\n",
       "      <td>52.939164</td>\n",
       "      <td>75.92</td>\n",
       "      <td>9.046250</td>\n",
       "    </tr>\n",
       "    <tr>\n",
       "      <th>12</th>\n",
       "      <td>21.02</td>\n",
       "      <td>44.056613</td>\n",
       "      <td>71.96</td>\n",
       "      <td>10.457353</td>\n",
       "    </tr>\n",
       "  </tbody>\n",
       "</table>\n",
       "</div>"
      ],
      "text/plain": [
       "         min       mean     max        std\n",
       "Month                                     \n",
       "1      16.88  32.598790   55.94   6.414316\n",
       "2      19.94  37.500982   60.98   8.311494\n",
       "3      23.00  40.881210   57.02   6.699112\n",
       "4      33.08  54.581500   87.08  10.520313\n",
       "5      44.96  64.435806   89.96   8.740440\n",
       "6      51.98  74.812750   93.92   7.926133\n",
       "7      57.92  75.186452   93.02   7.108172\n",
       "8      64.04  79.069516  100.04   6.782238\n",
       "9      48.92  68.319000   84.92   8.468815\n",
       "10     37.04  58.796048   82.04  10.290392\n",
       "11     30.92  52.939164   75.92   9.046250\n",
       "12     21.02  44.056613   71.96  10.457353"
      ]
     },
     "execution_count": 22,
     "metadata": {},
     "output_type": "execute_result"
    }
   ],
   "source": [
    "monthGroups['Air Temp'].agg(['min', 'mean', 'max', 'std'])"
   ]
  },
  {
   "cell_type": "markdown",
   "metadata": {},
   "source": [
    "#### Other strings that pandas will recognize as functions are here:\n",
    "<http://pandas.pydata.org/pandas-docs/stable/basics.html>"
   ]
  },
  {
   "cell_type": "markdown",
   "metadata": {},
   "source": [
    "#### Using .agg to compute different statistics on different columns:"
   ]
  },
  {
   "cell_type": "code",
   "execution_count": 23,
   "metadata": {},
   "outputs": [
    {
     "data": {
      "text/html": [
       "<div>\n",
       "<style scoped>\n",
       "    .dataframe tbody tr th:only-of-type {\n",
       "        vertical-align: middle;\n",
       "    }\n",
       "\n",
       "    .dataframe tbody tr th {\n",
       "        vertical-align: top;\n",
       "    }\n",
       "\n",
       "    .dataframe thead th {\n",
       "        text-align: right;\n",
       "    }\n",
       "</style>\n",
       "<table border=\"1\" class=\"dataframe\">\n",
       "  <thead>\n",
       "    <tr style=\"text-align: right;\">\n",
       "      <th></th>\n",
       "      <th>Air Temp</th>\n",
       "      <th>Wind Speed Rate</th>\n",
       "    </tr>\n",
       "    <tr>\n",
       "      <th>Month</th>\n",
       "      <th></th>\n",
       "      <th></th>\n",
       "    </tr>\n",
       "  </thead>\n",
       "  <tbody>\n",
       "    <tr>\n",
       "      <th>1</th>\n",
       "      <td>32.598790</td>\n",
       "      <td>139</td>\n",
       "    </tr>\n",
       "    <tr>\n",
       "      <th>2</th>\n",
       "      <td>37.500982</td>\n",
       "      <td>129</td>\n",
       "    </tr>\n",
       "    <tr>\n",
       "      <th>3</th>\n",
       "      <td>40.881210</td>\n",
       "      <td>139</td>\n",
       "    </tr>\n",
       "    <tr>\n",
       "      <th>4</th>\n",
       "      <td>54.581500</td>\n",
       "      <td>170</td>\n",
       "    </tr>\n",
       "    <tr>\n",
       "      <th>5</th>\n",
       "      <td>64.435806</td>\n",
       "      <td>103</td>\n",
       "    </tr>\n",
       "    <tr>\n",
       "      <th>6</th>\n",
       "      <td>74.812750</td>\n",
       "      <td>103</td>\n",
       "    </tr>\n",
       "    <tr>\n",
       "      <th>7</th>\n",
       "      <td>75.186452</td>\n",
       "      <td>98</td>\n",
       "    </tr>\n",
       "    <tr>\n",
       "      <th>8</th>\n",
       "      <td>79.069516</td>\n",
       "      <td>82</td>\n",
       "    </tr>\n",
       "    <tr>\n",
       "      <th>9</th>\n",
       "      <td>68.319000</td>\n",
       "      <td>118</td>\n",
       "    </tr>\n",
       "    <tr>\n",
       "      <th>10</th>\n",
       "      <td>58.796048</td>\n",
       "      <td>129</td>\n",
       "    </tr>\n",
       "    <tr>\n",
       "      <th>11</th>\n",
       "      <td>52.939164</td>\n",
       "      <td>124</td>\n",
       "    </tr>\n",
       "    <tr>\n",
       "      <th>12</th>\n",
       "      <td>44.056613</td>\n",
       "      <td>134</td>\n",
       "    </tr>\n",
       "  </tbody>\n",
       "</table>\n",
       "</div>"
      ],
      "text/plain": [
       "        Air Temp  Wind Speed Rate\n",
       "Month                            \n",
       "1      32.598790              139\n",
       "2      37.500982              129\n",
       "3      40.881210              139\n",
       "4      54.581500              170\n",
       "5      64.435806              103\n",
       "6      74.812750              103\n",
       "7      75.186452               98\n",
       "8      79.069516               82\n",
       "9      68.319000              118\n",
       "10     58.796048              129\n",
       "11     52.939164              124\n",
       "12     44.056613              134"
      ]
     },
     "execution_count": 23,
     "metadata": {},
     "output_type": "execute_result"
    }
   ],
   "source": [
    "monthGroups.agg({'Air Temp': 'mean', 'Wind Speed Rate': 'max'})"
   ]
  },
  {
   "cell_type": "markdown",
   "metadata": {},
   "source": [
    "#### Using .agg to compute different statistics on different columns, and renaming the columns:"
   ]
  },
  {
   "cell_type": "code",
   "execution_count": 24,
   "metadata": {},
   "outputs": [
    {
     "data": {
      "text/html": [
       "<div>\n",
       "<style scoped>\n",
       "    .dataframe tbody tr th:only-of-type {\n",
       "        vertical-align: middle;\n",
       "    }\n",
       "\n",
       "    .dataframe tbody tr th {\n",
       "        vertical-align: top;\n",
       "    }\n",
       "\n",
       "    .dataframe thead th {\n",
       "        text-align: right;\n",
       "    }\n",
       "</style>\n",
       "<table border=\"1\" class=\"dataframe\">\n",
       "  <thead>\n",
       "    <tr style=\"text-align: right;\">\n",
       "      <th></th>\n",
       "      <th>Mean Air Temp</th>\n",
       "      <th>Max Wind Speed Rate</th>\n",
       "    </tr>\n",
       "    <tr>\n",
       "      <th>Month</th>\n",
       "      <th></th>\n",
       "      <th></th>\n",
       "    </tr>\n",
       "  </thead>\n",
       "  <tbody>\n",
       "    <tr>\n",
       "      <th>1</th>\n",
       "      <td>32.598790</td>\n",
       "      <td>139</td>\n",
       "    </tr>\n",
       "    <tr>\n",
       "      <th>2</th>\n",
       "      <td>37.500982</td>\n",
       "      <td>129</td>\n",
       "    </tr>\n",
       "    <tr>\n",
       "      <th>3</th>\n",
       "      <td>40.881210</td>\n",
       "      <td>139</td>\n",
       "    </tr>\n",
       "    <tr>\n",
       "      <th>4</th>\n",
       "      <td>54.581500</td>\n",
       "      <td>170</td>\n",
       "    </tr>\n",
       "    <tr>\n",
       "      <th>5</th>\n",
       "      <td>64.435806</td>\n",
       "      <td>103</td>\n",
       "    </tr>\n",
       "    <tr>\n",
       "      <th>6</th>\n",
       "      <td>74.812750</td>\n",
       "      <td>103</td>\n",
       "    </tr>\n",
       "    <tr>\n",
       "      <th>7</th>\n",
       "      <td>75.186452</td>\n",
       "      <td>98</td>\n",
       "    </tr>\n",
       "    <tr>\n",
       "      <th>8</th>\n",
       "      <td>79.069516</td>\n",
       "      <td>82</td>\n",
       "    </tr>\n",
       "    <tr>\n",
       "      <th>9</th>\n",
       "      <td>68.319000</td>\n",
       "      <td>118</td>\n",
       "    </tr>\n",
       "    <tr>\n",
       "      <th>10</th>\n",
       "      <td>58.796048</td>\n",
       "      <td>129</td>\n",
       "    </tr>\n",
       "    <tr>\n",
       "      <th>11</th>\n",
       "      <td>52.939164</td>\n",
       "      <td>124</td>\n",
       "    </tr>\n",
       "    <tr>\n",
       "      <th>12</th>\n",
       "      <td>44.056613</td>\n",
       "      <td>134</td>\n",
       "    </tr>\n",
       "  </tbody>\n",
       "</table>\n",
       "</div>"
      ],
      "text/plain": [
       "       Mean Air Temp  Max Wind Speed Rate\n",
       "Month                                    \n",
       "1          32.598790                  139\n",
       "2          37.500982                  129\n",
       "3          40.881210                  139\n",
       "4          54.581500                  170\n",
       "5          64.435806                  103\n",
       "6          74.812750                  103\n",
       "7          75.186452                   98\n",
       "8          79.069516                   82\n",
       "9          68.319000                  118\n",
       "10         58.796048                  129\n",
       "11         52.939164                  124\n",
       "12         44.056613                  134"
      ]
     },
     "execution_count": 24,
     "metadata": {},
     "output_type": "execute_result"
    }
   ],
   "source": [
    "(monthGroups.agg({'Air Temp': 'mean', 'Wind Speed Rate': 'max'}).\n",
    " rename(columns={'Air Temp': 'Mean Air Temp', 'Wind Speed Rate': 'Max Wind Speed Rate'}))"
   ]
  },
  {
   "cell_type": "markdown",
   "metadata": {},
   "source": [
    "### In Class Exercise\n",
    "Create a new goupby object (something other than grouping by month). Use the .agg function to calculate various statistics on the groupby object."
   ]
  },
  {
   "cell_type": "markdown",
   "metadata": {},
   "source": [
    "# Using the apply method for custom analysis\n",
    "The apply method allows us to apply a custom function to each group."
   ]
  },
  {
   "cell_type": "markdown",
   "metadata": {},
   "source": [
    "#### Finding the percentage of hourly temperature below 32\n",
    "We can use the apply method to help us find the percentage of hourly temps that are below 32 in each month. First we need to define the function we will use."
   ]
  },
  {
   "cell_type": "code",
   "execution_count": 26,
   "metadata": {},
   "outputs": [],
   "source": [
    "def prctTempsBelow32(x, y=32):\n",
    "    # x is a series of hourly Air Temp values. All we need to do is test if\n",
    "    # each value is less than 32. This will create a series of boolean values,\n",
    "    # a value will be True if the temp is less than 32, and False if not.\n",
    "    # Finding the mean of this boolean series gives us the percentage of hours\n",
    "    # that are less than 32 (because True has a value of 1, and False a value\n",
    "    # of 0)\n",
    "    \n",
    "    # The below code is great, but we could also do it all on one line:\n",
    "    # return (x < 32).mean()\n",
    "    \n",
    "    tempLessThan32 = (x < y).mean()\n",
    "    \n",
    "    return tempLessThan32"
   ]
  },
  {
   "cell_type": "code",
   "execution_count": 27,
   "metadata": {},
   "outputs": [
    {
     "data": {
      "text/plain": [
       "Month\n",
       "1     42.473118\n",
       "2     21.875000\n",
       "3      7.795699\n",
       "4      0.000000\n",
       "5      0.000000\n",
       "6      0.000000\n",
       "7      0.000000\n",
       "8      0.000000\n",
       "9      0.000000\n",
       "10     0.000000\n",
       "11     0.278552\n",
       "12    13.037634\n",
       "Name: Air Temp, dtype: float64"
      ]
     },
     "execution_count": 27,
     "metadata": {},
     "output_type": "execute_result"
    }
   ],
   "source": [
    "monthGroups['Air Temp'].apply(prctTempsBelow32) * 100"
   ]
  },
  {
   "cell_type": "markdown",
   "metadata": {},
   "source": [
    "#### What if we want the odds of any day in the month having at least one or more hourly temps below 32?"
   ]
  },
  {
   "cell_type": "code",
   "execution_count": 28,
   "metadata": {},
   "outputs": [],
   "source": [
    "def prctDayBelow32(x):\n",
    "    # x is now a dataframe with rows only corresponding to a specific month\n",
    "    # we will group this data by the day of the month\n",
    "    dayGroups = x.groupby(by='Day')\n",
    "    # now, we just need to test if the min temp on each day is below 32. If \n",
    "    # this is true, then we know that at least one hours is below 32\n",
    "    daysLessThan32 = (dayGroups['Air Temp'].min() < 32)\n",
    "    # daysLessThan32 is no a boolean series that is True if the days min temp\n",
    "    # is less than 32, and false if not. Findinging the mean of this gives us\n",
    "    # the percentages of days less than 32\n",
    "    \n",
    "    # This code works, but we could also do it all on one line:\n",
    "    # return (x.groupby(by='Day')['Air Temp'].min() < 32).mean()\n",
    "    return daysLessThan32.mean()"
   ]
  },
  {
   "cell_type": "code",
   "execution_count": 29,
   "metadata": {},
   "outputs": [
    {
     "data": {
      "text/plain": [
       "Month\n",
       "1     83.870968\n",
       "2     35.714286\n",
       "3     29.032258\n",
       "4      0.000000\n",
       "5      0.000000\n",
       "6      0.000000\n",
       "7      0.000000\n",
       "8      0.000000\n",
       "9      0.000000\n",
       "10     0.000000\n",
       "11     6.666667\n",
       "12    29.032258\n",
       "dtype: float64"
      ]
     },
     "execution_count": 29,
     "metadata": {},
     "output_type": "execute_result"
    }
   ],
   "source": [
    "monthGroups.apply(prctDayBelow32) * 100"
   ]
  },
  {
   "cell_type": "markdown",
   "metadata": {},
   "source": [
    "#### Quick Review of Lambda Functions\n",
    "A lambda function is a function that we define _in line_ that does not have a name. (In other programming languages these are sometimes called anonymous functions). For example,\n",
    "instead of using the prctTempBelow32 function above we could just pass a lambda function to the apply method:"
   ]
  },
  {
   "cell_type": "code",
   "execution_count": null,
   "metadata": {},
   "outputs": [],
   "source": [
    "monthGroups['Air Temp'].apply(lambda x: (x < 32).mean()) * 100"
   ]
  },
  {
   "cell_type": "markdown",
   "metadata": {},
   "source": [
    "### In Class Exercise\n",
    "Create a cell below and explore the monthGroups groupby object witha function that you define (you can define a function or use a lambda function)"
   ]
  },
  {
   "cell_type": "markdown",
   "metadata": {},
   "source": [
    "# Repeating The Same Analysis Using a Datetime Column"
   ]
  },
  {
   "cell_type": "markdown",
   "metadata": {},
   "source": [
    "#### You can also use groupby on a datetime column, you just need to pass the datetime column itself to the groupby method:\n",
    "\n",
    "First I am going to reload the data using the parse_dates argument to convert the first 4 columns to a datetime, and convert the 'Air Temp' column to Fahrenheit."
   ]
  },
  {
   "cell_type": "code",
   "execution_count": 30,
   "metadata": {},
   "outputs": [
    {
     "data": {
      "text/html": [
       "<div>\n",
       "<style scoped>\n",
       "    .dataframe tbody tr th:only-of-type {\n",
       "        vertical-align: middle;\n",
       "    }\n",
       "\n",
       "    .dataframe tbody tr th {\n",
       "        vertical-align: top;\n",
       "    }\n",
       "\n",
       "    .dataframe thead th {\n",
       "        text-align: right;\n",
       "    }\n",
       "</style>\n",
       "<table border=\"1\" class=\"dataframe\">\n",
       "  <thead>\n",
       "    <tr style=\"text-align: right;\">\n",
       "      <th></th>\n",
       "      <th>Year_Month_Day_Hour</th>\n",
       "      <th>Air Temp</th>\n",
       "      <th>Dew Point Temp</th>\n",
       "      <th>Sea Level Pressure</th>\n",
       "      <th>Wind Direction</th>\n",
       "      <th>Wind Speed Rate</th>\n",
       "      <th>Sky Condition Total Coverage Code</th>\n",
       "      <th>Liquid Precipitation Depth Dimension - 1Hr Duration</th>\n",
       "      <th>Liquid Precipitation Depth Dimension - Six Hour Duration</th>\n",
       "    </tr>\n",
       "  </thead>\n",
       "  <tbody>\n",
       "    <tr>\n",
       "      <th>0</th>\n",
       "      <td>2001-01-01 00:00:00</td>\n",
       "      <td>30.92</td>\n",
       "      <td>-94</td>\n",
       "      <td>10146</td>\n",
       "      <td>280</td>\n",
       "      <td>57</td>\n",
       "      <td>2</td>\n",
       "      <td>0</td>\n",
       "      <td>-9999</td>\n",
       "    </tr>\n",
       "    <tr>\n",
       "      <th>1</th>\n",
       "      <td>2001-01-01 01:00:00</td>\n",
       "      <td>30.02</td>\n",
       "      <td>-94</td>\n",
       "      <td>10153</td>\n",
       "      <td>280</td>\n",
       "      <td>57</td>\n",
       "      <td>4</td>\n",
       "      <td>0</td>\n",
       "      <td>-9999</td>\n",
       "    </tr>\n",
       "  </tbody>\n",
       "</table>\n",
       "</div>"
      ],
      "text/plain": [
       "  Year_Month_Day_Hour  Air Temp  Dew Point Temp  Sea Level Pressure  \\\n",
       "0 2001-01-01 00:00:00     30.92             -94               10146   \n",
       "1 2001-01-01 01:00:00     30.02             -94               10153   \n",
       "\n",
       "   Wind Direction  Wind Speed Rate  Sky Condition Total Coverage Code  \\\n",
       "0             280               57                                  2   \n",
       "1             280               57                                  4   \n",
       "\n",
       "   Liquid Precipitation Depth Dimension - 1Hr Duration  \\\n",
       "0                                                  0     \n",
       "1                                                  0     \n",
       "\n",
       "   Liquid Precipitation Depth Dimension - Six Hour Duration  \n",
       "0                                              -9999         \n",
       "1                                              -9999         "
      ]
     },
     "execution_count": 30,
     "metadata": {},
     "output_type": "execute_result"
    }
   ],
   "source": [
    "weatherData = pd.read_csv(filepath, delim_whitespace=True,\n",
    "                          names=headers, parse_dates=[[0, 1, 2, 3]])\n",
    "weatherData.loc[:, 'Air Temp'] = (weatherData['Air Temp']/10) * 1.8 + 32\n",
    "weatherData.head(2)"
   ]
  },
  {
   "cell_type": "markdown",
   "metadata": {},
   "source": [
    "#### Below, note how I pass the datetime column, using .dt.month to get the month of each value in the column\n",
    "So, really, I am passing a series of month values"
   ]
  },
  {
   "cell_type": "code",
   "execution_count": 31,
   "metadata": {},
   "outputs": [
    {
     "data": {
      "text/plain": [
       "Year_Month_Day_Hour\n",
       "1     32.598790\n",
       "2     34.797232\n",
       "3     40.881210\n",
       "4     54.581500\n",
       "5     64.435806\n",
       "6     74.812750\n",
       "7     75.186452\n",
       "8     79.069516\n",
       "9     68.319000\n",
       "10    58.796048\n",
       "11    52.939164\n",
       "12    44.056613\n",
       "Name: Air Temp, dtype: float64"
      ]
     },
     "execution_count": 31,
     "metadata": {},
     "output_type": "execute_result"
    }
   ],
   "source": [
    "weatherData.groupby(by=weatherData['Year_Month_Day_Hour'].dt.month)['Air Temp'].mean()"
   ]
  },
  {
   "cell_type": "markdown",
   "metadata": {},
   "source": [
    "## More Groupby Examples On Our Labor Sheet Data\n",
    "The labor sheet is a great use case for groupby! Naturally, we may want to compare manager performance. Let's use groupy and some analysis to do!\n",
    "\n",
    "First, we will load the dataset, just like we have before."
   ]
  },
  {
   "cell_type": "code",
   "execution_count": 32,
   "metadata": {},
   "outputs": [
    {
     "data": {
      "text/html": [
       "<div>\n",
       "<style scoped>\n",
       "    .dataframe tbody tr th:only-of-type {\n",
       "        vertical-align: middle;\n",
       "    }\n",
       "\n",
       "    .dataframe tbody tr th {\n",
       "        vertical-align: top;\n",
       "    }\n",
       "\n",
       "    .dataframe thead th {\n",
       "        text-align: right;\n",
       "    }\n",
       "</style>\n",
       "<table border=\"1\" class=\"dataframe\">\n",
       "  <thead>\n",
       "    <tr style=\"text-align: right;\">\n",
       "      <th></th>\n",
       "      <th>Date_Hour</th>\n",
       "      <th>Store</th>\n",
       "      <th>Manager</th>\n",
       "      <th>Projected Sales</th>\n",
       "      <th>Sales</th>\n",
       "      <th>DT TTL</th>\n",
       "      <th>KVS Total</th>\n",
       "      <th>Hrs +/- (Actual vs Need)</th>\n",
       "      <th>Accum Hrs +/- (Act vs Need)</th>\n",
       "      <th>Reason for +/- Labor</th>\n",
       "      <th>Reason for High TTL's</th>\n",
       "      <th>Manager Entering Data</th>\n",
       "      <th>TimeStamp</th>\n",
       "    </tr>\n",
       "  </thead>\n",
       "  <tbody>\n",
       "    <tr>\n",
       "      <th>0</th>\n",
       "      <td>2017-02-04 07:00:00</td>\n",
       "      <td>4007</td>\n",
       "      <td>Monica H</td>\n",
       "      <td>281.0</td>\n",
       "      <td>296.0</td>\n",
       "      <td>192</td>\n",
       "      <td>117</td>\n",
       "      <td>-1.00</td>\n",
       "      <td>1.00</td>\n",
       "      <td>NaN</td>\n",
       "      <td>NaN</td>\n",
       "      <td>NaN</td>\n",
       "      <td>2017-02-04 07:10:00</td>\n",
       "    </tr>\n",
       "    <tr>\n",
       "      <th>1</th>\n",
       "      <td>2017-02-04 08:00:00</td>\n",
       "      <td>4007</td>\n",
       "      <td>David H</td>\n",
       "      <td>670.0</td>\n",
       "      <td>347.0</td>\n",
       "      <td>111</td>\n",
       "      <td>97</td>\n",
       "      <td>2.39</td>\n",
       "      <td>2.39</td>\n",
       "      <td>NaN</td>\n",
       "      <td>NaN</td>\n",
       "      <td>NaN</td>\n",
       "      <td>2017-02-04 08:04:00</td>\n",
       "    </tr>\n",
       "    <tr>\n",
       "      <th>2</th>\n",
       "      <td>2017-02-03 09:00:00</td>\n",
       "      <td>4007</td>\n",
       "      <td>David H</td>\n",
       "      <td>784.0</td>\n",
       "      <td>649.0</td>\n",
       "      <td>143</td>\n",
       "      <td>73</td>\n",
       "      <td>0.18</td>\n",
       "      <td>0.18</td>\n",
       "      <td>NaN</td>\n",
       "      <td>NaN</td>\n",
       "      <td>NaN</td>\n",
       "      <td>2017-02-03 18:41:00</td>\n",
       "    </tr>\n",
       "    <tr>\n",
       "      <th>3</th>\n",
       "      <td>2017-02-04 10:00:00</td>\n",
       "      <td>4007</td>\n",
       "      <td>David H</td>\n",
       "      <td>852.0</td>\n",
       "      <td>750.0</td>\n",
       "      <td>158</td>\n",
       "      <td>85</td>\n",
       "      <td>0.75</td>\n",
       "      <td>3.25</td>\n",
       "      <td>NaN</td>\n",
       "      <td>NaN</td>\n",
       "      <td>NaN</td>\n",
       "      <td>2017-02-04 10:06:00</td>\n",
       "    </tr>\n",
       "    <tr>\n",
       "      <th>4</th>\n",
       "      <td>2017-02-05 05:00:00</td>\n",
       "      <td>4007</td>\n",
       "      <td>Zoey D</td>\n",
       "      <td>54.0</td>\n",
       "      <td>108.0</td>\n",
       "      <td>104</td>\n",
       "      <td>45</td>\n",
       "      <td>-1.50</td>\n",
       "      <td>-1.50</td>\n",
       "      <td>NaN</td>\n",
       "      <td>NaN</td>\n",
       "      <td>NaN</td>\n",
       "      <td>2017-02-05 10:57:00</td>\n",
       "    </tr>\n",
       "  </tbody>\n",
       "</table>\n",
       "</div>"
      ],
      "text/plain": [
       "            Date_Hour  Store   Manager  Projected Sales  Sales  DT TTL  \\\n",
       "0 2017-02-04 07:00:00   4007  Monica H            281.0  296.0     192   \n",
       "1 2017-02-04 08:00:00   4007   David H            670.0  347.0     111   \n",
       "2 2017-02-03 09:00:00   4007   David H            784.0  649.0     143   \n",
       "3 2017-02-04 10:00:00   4007   David H            852.0  750.0     158   \n",
       "4 2017-02-05 05:00:00   4007    Zoey D             54.0  108.0     104   \n",
       "\n",
       "   KVS Total  Hrs +/- (Actual vs Need)  Accum Hrs +/- (Act vs Need)  \\\n",
       "0        117                     -1.00                         1.00   \n",
       "1         97                      2.39                         2.39   \n",
       "2         73                      0.18                         0.18   \n",
       "3         85                      0.75                         3.25   \n",
       "4         45                     -1.50                        -1.50   \n",
       "\n",
       "  Reason for +/- Labor Reason for High TTL's  Manager Entering Data  \\\n",
       "0                  NaN                   NaN                    NaN   \n",
       "1                  NaN                   NaN                    NaN   \n",
       "2                  NaN                   NaN                    NaN   \n",
       "3                  NaN                   NaN                    NaN   \n",
       "4                  NaN                   NaN                    NaN   \n",
       "\n",
       "            TimeStamp  \n",
       "0 2017-02-04 07:10:00  \n",
       "1 2017-02-04 08:04:00  \n",
       "2 2017-02-03 18:41:00  \n",
       "3 2017-02-04 10:06:00  \n",
       "4 2017-02-05 10:57:00  "
      ]
     },
     "execution_count": 32,
     "metadata": {},
     "output_type": "execute_result"
    }
   ],
   "source": [
    "filepath = os.path.join(os.getcwd(), 'data', 'LaborSheetData.csv')\n",
    "laborSheetData = pd.read_csv(filepath, parse_dates=[[2, 3], 13])\n",
    "laborSheetData.head()"
   ]
  },
  {
   "cell_type": "markdown",
   "metadata": {},
   "source": [
    "#### Let's group the laborsheet data by the managers"
   ]
  },
  {
   "cell_type": "code",
   "execution_count": 33,
   "metadata": {},
   "outputs": [
    {
     "data": {
      "text/plain": [
       "Manager\n",
       "Anna B         147\n",
       "Ariel A        282\n",
       "Blaine O       289\n",
       "Brittany S      28\n",
       "Caitlin H      354\n",
       "Carmella R     522\n",
       "Ceaunna S      649\n",
       "Charizma M      53\n",
       "Charles S      193\n",
       "Christina S    594\n",
       "Claudia A       96\n",
       "Connie G        13\n",
       "Dacota A       318\n",
       "Daisy D        114\n",
       "David H         48\n",
       "Deanna G        13\n",
       "DeeDee G        19\n",
       "Echo R         156\n",
       "Emily P        545\n",
       "Erica F        444\n",
       "Erin S         784\n",
       "Greg D          20\n",
       "Heather W      171\n",
       "Jammie T       432\n",
       "Jenna J        120\n",
       "Jessica B      668\n",
       "Jessica M      340\n",
       "Jesus B        343\n",
       "Jillian A      199\n",
       "Jordan W       339\n",
       "Jose M         268\n",
       "Josh D         281\n",
       "Kyllie T       578\n",
       "Lynn W          33\n",
       "Melissa J      427\n",
       "Michelle M     572\n",
       "Monica H       275\n",
       "Nichole S        5\n",
       "Olivia P       422\n",
       "Ora M          189\n",
       "Rachel H       242\n",
       "Sabrina D      169\n",
       "Sarah U        193\n",
       "Shannon H      179\n",
       "Tabby W        360\n",
       "Tom W          518\n",
       "Trish G         30\n",
       "Veronica C     100\n",
       "Zoey D          41\n",
       "dtype: int64"
      ]
     },
     "execution_count": 33,
     "metadata": {},
     "output_type": "execute_result"
    }
   ],
   "source": [
    "managerGroups = laborSheetData.groupby('Manager')\n",
    "# let's print the size of the groups just to get an idea of what we are working with.\n",
    "managerGroups.size()"
   ]
  },
  {
   "cell_type": "markdown",
   "metadata": {},
   "source": [
    "#### Let's find the manager with the best mean DT TTL (drive through times)\n",
    "To do this, we will use .mean() and then we will use .sort_values() to sort from the smallest DT TTL (fastest time) to the longest time."
   ]
  },
  {
   "cell_type": "code",
   "execution_count": 34,
   "metadata": {},
   "outputs": [
    {
     "data": {
      "text/plain": [
       "Manager\n",
       "Brittany S      85.750000\n",
       "Daisy D        115.087719\n",
       "Dacota A       130.647799\n",
       "Jessica M      130.861765\n",
       "Sabrina D      131.674556\n",
       "Trish G        132.366667\n",
       "Connie G       133.923077\n",
       "Erin S         137.911990\n",
       "Ora M          143.216931\n",
       "Erica F        156.313063\n",
       "Jose M         157.347015\n",
       "Deanna G       158.307692\n",
       "Michelle M     158.741259\n",
       "Jordan W       165.032448\n",
       "Shannon H      166.664804\n",
       "Zoey D         167.121951\n",
       "Monica H       168.454545\n",
       "Ariel A        170.315603\n",
       "Caitlin H      173.347458\n",
       "Melissa J      175.124122\n",
       "Lynn W         179.212121\n",
       "Tom W          184.065637\n",
       "David H        184.187500\n",
       "Nichole S      185.000000\n",
       "Anna B         190.748299\n",
       "Charizma M     192.150943\n",
       "Jesus B        193.008746\n",
       "Emily P        194.708257\n",
       "Kyllie T       196.743945\n",
       "Carmella R     197.503831\n",
       "Claudia A      199.645833\n",
       "Veronica C     201.170000\n",
       "Ceaunna S      202.317411\n",
       "Sarah U        202.626943\n",
       "Olivia P       204.398104\n",
       "Jessica B      208.561377\n",
       "Blaine O       211.249135\n",
       "DeeDee G       211.894737\n",
       "Jenna J        213.625000\n",
       "Josh D         217.149466\n",
       "Christina S    219.303030\n",
       "Charles S      219.424870\n",
       "Jammie T       220.569444\n",
       "Rachel H       225.041322\n",
       "Heather W      226.368421\n",
       "Echo R         229.871795\n",
       "Jillian A      233.944724\n",
       "Tabby W        234.136111\n",
       "Greg D         274.450000\n",
       "Name: DT TTL, dtype: float64"
      ]
     },
     "execution_count": 34,
     "metadata": {},
     "output_type": "execute_result"
    }
   ],
   "source": [
    "managerGroups['DT TTL'].mean().sort_values()"
   ]
  },
  {
   "cell_type": "markdown",
   "metadata": {},
   "source": [
    "#### This is great, but we question Brittany S's time - I wonder how many hours she has worked?\n",
    "Let's take into account the sample size by also finding the count of values for each manager. We need to use agg() for this. Aso, since the results have more than one column, we need to pass the name of the column that we want to sort by to the sort_values() method."
   ]
  },
  {
   "cell_type": "code",
   "execution_count": null,
   "metadata": {},
   "outputs": [],
   "source": [
    "managerDTTTL = (managerGroups['DT TTL'].agg(['mean', 'count']).\n",
    "                sort_values('mean').rename(columns={'mean': 'Mean DT TTL',\n",
    "                                                     'count': 'Sample Size'}))\n",
    "print(managerDTTTL)"
   ]
  },
  {
   "cell_type": "markdown",
   "metadata": {},
   "source": [
    "#### Let's filter out managers with a sample size less than 100."
   ]
  },
  {
   "cell_type": "code",
   "execution_count": null,
   "metadata": {},
   "outputs": [],
   "source": [
    "managerDTTTL.loc[managerDTTTL['Sample Size'] > 100, :].sort_values(by='Mean DT TTL')"
   ]
  },
  {
   "cell_type": "markdown",
   "metadata": {},
   "source": [
    "#### Let's investigate the relationship between DT TTLs and the hour of the day."
   ]
  },
  {
   "cell_type": "code",
   "execution_count": null,
   "metadata": {},
   "outputs": [],
   "source": [
    "hourGroups = laborSheetData.groupby(laborSheetData['Date_Hour'].dt.hour)"
   ]
  },
  {
   "cell_type": "code",
   "execution_count": null,
   "metadata": {},
   "outputs": [],
   "source": [
    "hourGroupDTTTLs = hourGroups['DT TTL'].agg(['mean', 'count'])\n",
    "print(hourGroupDTTTLs)"
   ]
  },
  {
   "cell_type": "markdown",
   "metadata": {},
   "source": [
    "#### What if we express manager DT TTLs in terms of deviations from the mean?\n",
    "To do this we need to subtract the mean DT TTL for each of the recorded DT TTL values.\n",
    "There are multiple ways to do this - we will show one way below."
   ]
  },
  {
   "cell_type": "markdown",
   "metadata": {},
   "source": [
    "#### Introducing the .to_dict() method to extract values from a dataframe to a dictionary.\n",
    "Dictionaries are fast data structures - that are liberally used in python."
   ]
  },
  {
   "cell_type": "code",
   "execution_count": null,
   "metadata": {},
   "outputs": [],
   "source": [
    "meanHourDTTTLs = hourGroupDTTTLs['mean'].to_dict()\n",
    "print(meanHourDTTTLs)"
   ]
  },
  {
   "cell_type": "markdown",
   "metadata": {},
   "source": [
    "#### Now we loop through the dictionary and then subtract the mean from the appropriate rows in the dataframe:"
   ]
  },
  {
   "cell_type": "code",
   "execution_count": null,
   "metadata": {},
   "outputs": [],
   "source": [
    "for hour in meanHourDTTTLs:\n",
    "    laborSheetData.loc[laborSheetData['Date_Hour'].dt.hour == hour, 'DT TTL'] = \\\n",
    "    laborSheetData.loc[laborSheetData['Date_Hour'].dt.hour == hour, 'DT TTL'] - meanHourDTTTLs[hour]"
   ]
  },
  {
   "cell_type": "code",
   "execution_count": null,
   "metadata": {},
   "outputs": [],
   "source": [
    "laborSheetData.head()"
   ]
  },
  {
   "cell_type": "markdown",
   "metadata": {},
   "source": [
    "#### Now we use recalculate the mean DT TTLs, using the same groupby object!\n",
    "Since we did not update anything in the managers column, we do not need to create a new groupby object!"
   ]
  },
  {
   "cell_type": "code",
   "execution_count": null,
   "metadata": {},
   "outputs": [],
   "source": [
    "(managerGroups['DT TTL'].agg(['mean', 'count']).\n",
    "                sort_values('mean').rename(columns={'mean': 'Mean DT TTL Deviations',\n",
    "                                                     'count': 'Sample Size'}))"
   ]
  },
  {
   "cell_type": "markdown",
   "metadata": {},
   "source": [
    "#### Let's now assign the output to a variable (a new dataframe) which we can then filter by the sample size"
   ]
  },
  {
   "cell_type": "code",
   "execution_count": null,
   "metadata": {},
   "outputs": [],
   "source": [
    "managerDTTTLDev = (managerGroups['DT TTL'].agg(['mean', 'count']).\n",
    "                sort_values('mean').rename(columns={'mean': 'Mean DT TTL Deviations',\n",
    "                                                     'count': 'Sample Size'}))"
   ]
  },
  {
   "cell_type": "code",
   "execution_count": null,
   "metadata": {},
   "outputs": [],
   "source": [
    "managerDTTTLDev.loc[managerDTTTLDev.loc[:, 'Sample Size'] > 100, :].sort_values(by='Mean DT TTL Deviations')"
   ]
  },
  {
   "cell_type": "markdown",
   "metadata": {},
   "source": [
    "### In Class Exercise\n",
    "Create some cells below to explore the laborSheetData, you can create a new groupby object and explore it as you wish."
   ]
  },
  {
   "cell_type": "markdown",
   "metadata": {},
   "source": [
    "## Question or Comments About This Notebook?\n",
    "Feel free to contact me via my LinkedIn: https://www.linkedin.com/in/william-j-henry <br>\n",
    "You can also email me at will@henryanalytics.com <br>"
   ]
  }
 ],
 "metadata": {
  "hide_input": false,
  "kernelspec": {
   "display_name": "Python 3",
   "language": "python",
   "name": "python3"
  },
  "language_info": {
   "codemirror_mode": {
    "name": "ipython",
    "version": 3
   },
   "file_extension": ".py",
   "mimetype": "text/x-python",
   "name": "python",
   "nbconvert_exporter": "python",
   "pygments_lexer": "ipython3",
   "version": "3.7.0"
  }
 },
 "nbformat": 4,
 "nbformat_minor": 2
}
