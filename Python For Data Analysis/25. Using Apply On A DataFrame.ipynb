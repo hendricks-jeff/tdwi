{
 "cells": [
  {
   "cell_type": "markdown",
   "metadata": {},
   "source": [
    "# Using Apply On A DataFrame\n",
    "\n",
    "## Notebook Outline:\n",
    "* <a href='#introtoapply'>Introduction to .apply()</a>\n",
    "* <a href='#examplebabyname'>An example on our baby boy name data</a>\n",
    "* <a href='#examplelaborsheet'>Another example on our labor sheet data</a>"
   ]
  },
  {
   "cell_type": "markdown",
   "metadata": {},
   "source": [
    "<a name=introtoapply></a>\n",
    "# Introduction to .apply()\n",
    "\n",
    "The .apply() method we are going to learn about is exactly like the .apply() we learned about int our groupby lectures.  The only difference is that this the method for dataframes instead of groupby objects.\n",
    "\n",
    "The docs are here: <https://pandas.pydata.org/pandas-docs/stable/generated/pandas.DataFrame.apply.html>\n",
    "\n",
    "We are going to go back to our baby boy name data for our first example. So, let's load the data!"
   ]
  },
  {
   "cell_type": "markdown",
   "metadata": {},
   "source": [
    "<a name=examplebabyname></a>\n",
    "# An example of using .apply() on our baby boy name data:"
   ]
  },
  {
   "cell_type": "code",
   "execution_count": null,
   "metadata": {},
   "outputs": [],
   "source": [
    "import pandas as pd\n",
    "import os\n",
    "\n",
    "filepath = os.path.join(os.getcwd(), 'data', 'Most_Popular_Baby_Boy_Names__1980-2013.csv')\n",
    "nameData = pd.read_csv(filepath)"
   ]
  },
  {
   "cell_type": "markdown",
   "metadata": {},
   "source": [
    "#### Let's take a look at these name values again - we will use .unique() to do so:"
   ]
  },
  {
   "cell_type": "code",
   "execution_count": null,
   "metadata": {},
   "outputs": [],
   "source": [
    "nameData['Name'].unique()"
   ]
  },
  {
   "cell_type": "markdown",
   "metadata": {},
   "source": [
    "#### Most likely, we don't want Michael and MICHAEL to count as two different names - let's fix that using .apply(), lambda, and .lower() to fix this problem!\n",
    "\n",
    "The basic idea here is want to lower case all of the names, this way all the 'Michael's will be changed to 'michael' and the 'MICHAEL's will be changed to 'michael'. Now every Michael will be counted as the same name! We can lower case string using the .lower() method, let's review this below."
   ]
  },
  {
   "cell_type": "code",
   "execution_count": null,
   "metadata": {},
   "outputs": [],
   "source": [
    "name = 'MICHAEL'\n",
    "print(name.lower())\n",
    "\n",
    "# Note you can call .lower() directly on the string as well:\n",
    "print('MICHAEL'.lower())"
   ]
  },
  {
   "cell_type": "markdown",
   "metadata": {},
   "source": [
    "#### Now let's use .apply() to _apply_ the .lower() method to the all the names in the 'Names' column\n",
    "We have to wrap it in a lamabda function though! We can only pass _functions_ to the apply() method, we can not pass other methods. \n",
    "\n",
    "As a review, let's first write function that will convert a string to lower case."
   ]
  },
  {
   "cell_type": "code",
   "execution_count": null,
   "metadata": {},
   "outputs": [],
   "source": [
    "def lowerString(aString):\n",
    "    lowerString = aString.lower()\n",
    "    return lowerString\n",
    "\n",
    "lowerString('MICHAEL')"
   ]
  },
  {
   "cell_type": "markdown",
   "metadata": {},
   "source": [
    "#### Let's now apply this function to the entire column of names"
   ]
  },
  {
   "cell_type": "code",
   "execution_count": null,
   "metadata": {
    "run_control": {
     "marked": false
    }
   },
   "outputs": [],
   "source": [
    "nameData['Name'].apply(lowerString)"
   ]
  },
  {
   "cell_type": "markdown",
   "metadata": {},
   "source": [
    "#### Now, let's do the same, but use a _lambda_ function instead!"
   ]
  },
  {
   "cell_type": "code",
   "execution_count": null,
   "metadata": {},
   "outputs": [],
   "source": [
    "nameData['Name'].apply(lambda x: x.lower())"
   ]
  },
  {
   "cell_type": "markdown",
   "metadata": {},
   "source": [
    "#### Now let's actually update the values in the dataset:"
   ]
  },
  {
   "cell_type": "code",
   "execution_count": null,
   "metadata": {},
   "outputs": [],
   "source": [
    "nameData.loc[:, 'Name'] = nameData['Name'].apply(lambda x: x.lower())"
   ]
  },
  {
   "cell_type": "code",
   "execution_count": null,
   "metadata": {},
   "outputs": [],
   "source": [
    "nameData['Name'].unique()"
   ]
  },
  {
   "cell_type": "markdown",
   "metadata": {},
   "source": [
    "#### Now we are free to groupby the names!"
   ]
  },
  {
   "cell_type": "code",
   "execution_count": null,
   "metadata": {},
   "outputs": [],
   "source": [
    "nameData.groupby('Name')['Rank'].mean().sort_values()"
   ]
  },
  {
   "cell_type": "markdown",
   "metadata": {},
   "source": [
    "#### There is also another way to convert strings in a column to lower case that is better: \n",
    "We can access the string properties of a column with strings in it by using the .str attribute (very similar to how we accessed the datetime properties using a .dt attribute."
   ]
  },
  {
   "cell_type": "code",
   "execution_count": null,
   "metadata": {},
   "outputs": [],
   "source": [
    "nameData['Name'] = nameData['Name'].str.lower()\n",
    "nameData.head(3)"
   ]
  },
  {
   "cell_type": "markdown",
   "metadata": {},
   "source": [
    "<a name=examplelaborsheet></a>\n",
    "# Another example of apply on our labor sheet data"
   ]
  },
  {
   "cell_type": "code",
   "execution_count": null,
   "metadata": {},
   "outputs": [],
   "source": [
    "filepath = (baseFilepath + 'LaborSheetData.csv')\n",
    "laborSheetData = pd.read_csv(filepath, parse_dates=[[2, 3], 13])\n",
    "laborSheetData.head()"
   ]
  },
  {
   "cell_type": "markdown",
   "metadata": {},
   "source": [
    "#### Let's calculate the difference between 'TimeStamp' and 'Date_Hour' using .apply() and lambda. Because we are applying the apply() to the whole dataframe, we have to specific the axis that we will be apply the function across - this is confusing, so said another way if you want to apply the function every column then axis will equal 0, if you want to apply the function to every row, axis will equal 1\n"
   ]
  },
  {
   "cell_type": "code",
   "execution_count": null,
   "metadata": {},
   "outputs": [],
   "source": [
    "laborSheetData.loc[:, 'lateEnteringData'] = laborSheetData.apply(lambda x: x['TimeStamp'] - x['Date_Hour'], axis=1)"
   ]
  },
  {
   "cell_type": "code",
   "execution_count": null,
   "metadata": {},
   "outputs": [],
   "source": [
    "laborSheetData.head(3)"
   ]
  },
  {
   "cell_type": "code",
   "execution_count": null,
   "metadata": {},
   "outputs": [],
   "source": [
    "laborSheetData.loc[:, 'lateEnteringData'] = laborSheetData['TimeStamp'] - laborSheetData['Date_Hour']"
   ]
  },
  {
   "cell_type": "code",
   "execution_count": null,
   "metadata": {},
   "outputs": [],
   "source": [
    "laborSheetData.head(3)"
   ]
  },
  {
   "cell_type": "code",
   "execution_count": null,
   "metadata": {},
   "outputs": [],
   "source": [
    "laborSheetData.loc[laborSheetData['Store']==10606, :].groupby('Manager')['Sales'].mean().sort_values()"
   ]
  },
  {
   "cell_type": "markdown",
   "metadata": {},
   "source": [
    "### In Class Exercise\n",
    "Please create a cell below and use apply to manipulate the data in the laborSheetData DataFrame"
   ]
  },
  {
   "cell_type": "markdown",
   "metadata": {},
   "source": [
    "## Question or Comments About This Notebook?\n",
    "Feel free to contact me via my LinkedIn: https://www.linkedin.com/in/william-j-henry <br>\n",
    "You can also email me at will@henryanalytics.com <br>"
   ]
  }
 ],
 "metadata": {
  "hide_input": false,
  "kernelspec": {
   "display_name": "Python 3",
   "language": "python",
   "name": "python3"
  },
  "language_info": {
   "codemirror_mode": {
    "name": "ipython",
    "version": 3
   },
   "file_extension": ".py",
   "mimetype": "text/x-python",
   "name": "python",
   "nbconvert_exporter": "python",
   "pygments_lexer": "ipython3",
   "version": "3.7.0"
  }
 },
 "nbformat": 4,
 "nbformat_minor": 2
}
