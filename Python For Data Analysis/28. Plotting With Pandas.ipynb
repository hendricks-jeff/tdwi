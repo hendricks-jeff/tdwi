{
 "cells": [
  {
   "cell_type": "markdown",
   "metadata": {},
   "source": [
    "# Plotting with Pandas\n",
    "\n",
    "## Notebook Outline\n",
    "\n",
    "* <a href='#introtoplotting'>Introduction To Plotting</a>\n",
    "* <a href='#lineplots'>Line Plots</a>\n",
    "* <a href='#histograms'>Histograms</a>\n",
    "* <a href='#barcharts'>Bar Charts</a>"
   ]
  },
  {
   "cell_type": "markdown",
   "metadata": {},
   "source": [
    "<a name='introtoplotting'></a>\n",
    "# Introduction to Plotting\n",
    "Mastering plotting in Python is not easy (unfortunately) there are multiple ways to do just about everything, and fine tuning can be complex.  The most commonly used python plotting library is matplotlib.  It gives you _a lot_ of control over plots but the control comes with the price of complexity.\n",
    "\n",
    "Seaborn is a very popular python plotting that is more aesthetically pleasing than matplotlib and provides easier access to some functionality. It is built on top of matplotlib (which is one reason why we will cover matplotlib below).  I recommend that, if you are interested, you check out seaborn here: <https://seaborn.pydata.org/>\n",
    "\n",
    "There is a great online gallery of matplotlib graphs here <https://python-graph-gallery.com/> with examples and code. It is a great resource in continuing to learn about data visualization in Python.\n",
    "\n",
    "We are going to cover matplotlib below because the other libraries, like seaborn, are all built on top of it, and I believe you have to have an understanding (to some degree) of matplotib to successfully plot data with Python. \n",
    "\n",
    "Remember that there a multiple ways to create these plots. I am showing you the methods that I usually use that I think is area good balance between simplicity and control."
   ]
  },
  {
   "cell_type": "code",
   "execution_count": null,
   "metadata": {},
   "outputs": [],
   "source": [
    "import os\n",
    "import pandas as pd\n",
    "import matplotlib.pyplot as plt\n",
    "%matplotlib inline\n"
   ]
  },
  {
   "cell_type": "markdown",
   "metadata": {},
   "source": [
    "# Line Plots\n",
    "Let's look at a typical line plot.  We will use our fuel price data set, that we used in a previous week, for this plot.  First, let's load in the data and take a look at it using head() and info()."
   ]
  },
  {
   "cell_type": "code",
   "execution_count": null,
   "metadata": {},
   "outputs": [],
   "source": [
    "filepath = os.path.join(os.getcwd(), 'data', 'AAA_Fuel_Prices.csv')\n",
    "fuelPrices = pd.read_csv(filepath, parse_dates=[0])"
   ]
  },
  {
   "cell_type": "code",
   "execution_count": null,
   "metadata": {},
   "outputs": [],
   "source": [
    "fuelPrices.head(10)"
   ]
  },
  {
   "cell_type": "code",
   "execution_count": null,
   "metadata": {},
   "outputs": [],
   "source": [
    "fuelPrices.info()"
   ]
  },
  {
   "cell_type": "markdown",
   "metadata": {},
   "source": [
    "#### We'd like to plot the price for regular grade gasoline in the US.\n",
    "Let's first grab that data from the dataframe."
   ]
  },
  {
   "cell_type": "code",
   "execution_count": null,
   "metadata": {},
   "outputs": [],
   "source": [
    "USRegular = fuelPrices.loc[(fuelPrices['County']=='US') &\n",
    "                           (fuelPrices['Fuel'] == 'Gasoline - Regular'), :]\n",
    "USRegular.head()"
   ]
  },
  {
   "cell_type": "markdown",
   "metadata": {},
   "source": [
    "#### Now, let's plot the data: "
   ]
  },
  {
   "cell_type": "markdown",
   "metadata": {},
   "source": [
    "#### Introducing plt.subplots()\n",
    "\n",
    "The first thing we want to do is create our figure and axis.  The figure is the entire canvas that the plot is created on.  The axis is just one area of the canvas that plots particular data.  So, if you have 4 subplots on one figure, you would have 4 axes. If you just have one plot on your figure, then you have one axis.\n",
    "\n",
    "We create the figure and axis (or axes) using the subplots() method of the pyplot sub-module of the matplotlib python library. The first two arguments are the number of rows and number of columns of the axes layout that we want. Let's see some examples of this."
   ]
  },
  {
   "cell_type": "code",
   "execution_count": null,
   "metadata": {},
   "outputs": [],
   "source": [
    "fig, axs = plt.subplots(2, 2)\n",
    "print(type(fig))\n",
    "print(type(axs))\n",
    "print(axs.shape)\n",
    "print(type(axs[0, 0]))"
   ]
  },
  {
   "cell_type": "code",
   "execution_count": null,
   "metadata": {},
   "outputs": [],
   "source": [
    "fig, axs = plt.subplots(3, 1)\n",
    "print(axs.shape)\n",
    "print(type(axs[1]))"
   ]
  },
  {
   "cell_type": "code",
   "execution_count": null,
   "metadata": {},
   "outputs": [],
   "source": [
    "fig, axs = plt.subplots(1, 1)\n",
    "print(type(fig))\n",
    "print(type(axs))"
   ]
  },
  {
   "cell_type": "markdown",
   "metadata": {},
   "source": [
    "### In Class Exercise:\n",
    "In the cell below, please use plt.subplots to create different arrangements of plots"
   ]
  },
  {
   "cell_type": "markdown",
   "metadata": {},
   "source": [
    "#### Introducing the plot() method of a dataframe (or series)\n",
    "Now that we have created our figure and axes, we are ready to plot our data.  Just select the column of data you'd like to plot (in this case the 'Price') column and call the plot() method. Also, pass the axis that you'd like the data plotted on to the ax argument."
   ]
  },
  {
   "cell_type": "code",
   "execution_count": null,
   "metadata": {},
   "outputs": [],
   "source": [
    "USRegular.head()"
   ]
  },
  {
   "cell_type": "code",
   "execution_count": null,
   "metadata": {},
   "outputs": [],
   "source": [
    "fig, axs = plt.subplots(1, 1)\n",
    "USRegular['Price'].plot(ax=axs)"
   ]
  },
  {
   "cell_type": "markdown",
   "metadata": {},
   "source": [
    "#### Introducing the figsize argument to set the figure size\n",
    "Set figsize to a tuple. The first entry controls the height and the second controls the width."
   ]
  },
  {
   "cell_type": "code",
   "execution_count": null,
   "metadata": {},
   "outputs": [],
   "source": [
    "fig, axs = plt.subplots(1, 1, figsize=(15, 5))\n",
    "USRegular['Price'].plot(ax=axs)"
   ]
  },
  {
   "cell_type": "markdown",
   "metadata": {},
   "source": [
    "#### Introducting the set_xlabel(), set_ylabel(), and set_title() methods"
   ]
  },
  {
   "cell_type": "code",
   "execution_count": null,
   "metadata": {},
   "outputs": [],
   "source": [
    "fig, axs = plt.subplots(1, 1, figsize=(15, 5))\n",
    "USRegular['Price'].plot(ax=axs)\n",
    "axs.set_xlabel('Row Number')\n",
    "axs.set_ylabel('Price ($)', color='green', fontsize=15)\n",
    "axs.set_title('Fuel Price In The US', fontsize=20, color='blue')"
   ]
  },
  {
   "cell_type": "markdown",
   "metadata": {},
   "source": [
    "#### Dealing with datetime indices in plots"
   ]
  },
  {
   "cell_type": "code",
   "execution_count": null,
   "metadata": {
    "scrolled": false
   },
   "outputs": [],
   "source": [
    "fig, axs = plt.subplots(1, 1, figsize=(15, 5))\n",
    "USRegular.plot(ax=axs, x='Month_of_Price', y='Price')\n",
    "axs.set_title('Fuel Price')\n",
    "axs.set_xlabel('Date')\n",
    "axs.set_ylabel('Price ($)')"
   ]
  },
  {
   "cell_type": "markdown",
   "metadata": {},
   "source": [
    "### In Class Exercise\n",
    "Add a cell below and create a plot of fuel prices, add your on labels and title."
   ]
  },
  {
   "cell_type": "markdown",
   "metadata": {},
   "source": [
    "#### Plotting multiple lines of price data, and using the 'label' attribute:"
   ]
  },
  {
   "cell_type": "code",
   "execution_count": null,
   "metadata": {},
   "outputs": [],
   "source": [
    "fuelPrices['Fuel'].unique()"
   ]
  },
  {
   "cell_type": "code",
   "execution_count": null,
   "metadata": {},
   "outputs": [],
   "source": [
    "fig, axs = plt.subplots(1, 1, figsize=(15, 5))\n",
    "\n",
    "for fuelType in fuelPrices['Fuel'].unique():\n",
    "    fuelPrices.loc[(fuelPrices['Fuel'] == fuelType) &\n",
    "                   (fuelPrices['County'] == 'US'), :].plot(ax=axs, y='Price',\n",
    "                                                           x='Month_of_Price',\n",
    "                                                          label=fuelType)\n",
    "\n",
    "axs.set_title('Fuel Price')\n",
    "axs.set_xlabel('Date')\n",
    "axs.set_ylabel('Price ($)')"
   ]
  },
  {
   "cell_type": "markdown",
   "metadata": {},
   "source": [
    "<a name='histograms'></a>\n",
    "# Plotting Histograms\n",
    "\n",
    "Note that we use the plot() method again, but this time pass the 'hist' argument to the 'kind' argument.  Valid values of the kind attribute include:\n",
    "* ‘bar’ or ‘barh’ for bar plots\n",
    "* ‘hist’ for histogram\n",
    "* ‘box’ for boxplot\n",
    "* ‘kde’ or 'density' for density plots\n",
    "* ‘area’ for area plots\n",
    "* ‘scatter’ for scatter plots\n",
    "* ‘hexbin’ for hexagonal bin plots\n",
    "* ‘pie’ for pie plots"
   ]
  },
  {
   "cell_type": "code",
   "execution_count": null,
   "metadata": {
    "run_control": {
     "marked": false
    }
   },
   "outputs": [],
   "source": [
    "fig, axs = plt.subplots(1, 1, figsize=(15, 5))\n",
    "fuelPrices.loc[(fuelPrices['County']=='Honolulu') &\n",
    "               (fuelPrices['Fuel']=='Gasoline - Premium'), 'Price'].plot(kind='hist', ax=axs)"
   ]
  },
  {
   "cell_type": "markdown",
   "metadata": {},
   "source": [
    "#### Introducing the bins argument:"
   ]
  },
  {
   "cell_type": "code",
   "execution_count": null,
   "metadata": {},
   "outputs": [],
   "source": [
    "fig, axs = plt.subplots(1, 1, figsize=(15, 5))\n",
    "fuelPrices.loc[(fuelPrices['County']=='Honolulu') &\n",
    "               (fuelPrices['Fuel']=='Gasoline - Premium'), 'Price'].plot(kind='hist', bins=20, ax=axs)"
   ]
  },
  {
   "cell_type": "markdown",
   "metadata": {},
   "source": [
    "#### Introducing alpha and plotting multiple histograms:"
   ]
  },
  {
   "cell_type": "code",
   "execution_count": null,
   "metadata": {},
   "outputs": [],
   "source": [
    "fig, axs = plt.subplots(1, 1, figsize=(15, 5))\n",
    "for fuelType in ['Gasoline - Regular', 'Gasoline - Premium']:\n",
    "    fuelPrices.loc[(fuelPrices['County']=='Honolulu') &\n",
    "                   (fuelPrices['Fuel']==fuelType),\n",
    "                   'Price'].plot(kind='hist', bins=20, ax=axs, alpha=0.3, label=fuelType)\n",
    "    axs.legend()"
   ]
  },
  {
   "cell_type": "markdown",
   "metadata": {},
   "source": [
    "### In Class Exercise\n",
    "Add a cell below and create a histogram of fuel prices, add your on labels and title."
   ]
  },
  {
   "cell_type": "markdown",
   "metadata": {},
   "source": [
    "<a name=barcharts></a>\n",
    "# Bar Charts\n",
    "\n",
    "For bar charts, let's use our labor sheet data. First, we load the data:"
   ]
  },
  {
   "cell_type": "code",
   "execution_count": null,
   "metadata": {},
   "outputs": [],
   "source": [
    "filepath = os.path.join(os.getcwd(), 'data', 'LaborSheetData.csv')\n",
    "laborSheetData = pd.read_csv(filepath, parse_dates=[[2, 3], 13])\n",
    "laborSheetData.head(2)"
   ]
  },
  {
   "cell_type": "markdown",
   "metadata": {},
   "source": [
    "#### Plotting the mean hourly sales per store:"
   ]
  },
  {
   "cell_type": "code",
   "execution_count": null,
   "metadata": {},
   "outputs": [],
   "source": [
    "meanHourlySales = laborSheetData.groupby('Store')['Sales'].mean()\n",
    "print(meanHourlySales)\n",
    "fig, axs = plt.subplots(1, 1, figsize=(15, 5))\n",
    "meanHourlySales.plot(kind='bar', ax=axs)"
   ]
  },
  {
   "cell_type": "markdown",
   "metadata": {},
   "source": [
    "#### Create plots of sales per manager, per store:\n",
    "\n",
    "First let's look at an example of zip. I discuss this in the lecture."
   ]
  },
  {
   "cell_type": "code",
   "execution_count": null,
   "metadata": {},
   "outputs": [],
   "source": [
    "zip([1, 2, 3], ['a', 'b', 'c'])\n",
    "\n",
    "[(1, 'a'), (2, 'b'), (3, 'c')]"
   ]
  },
  {
   "cell_type": "code",
   "execution_count": null,
   "metadata": {},
   "outputs": [],
   "source": [
    "for A, B in zip([1, 2, 3], ['a', 'b', 'c']):\n",
    "    print(A, B)"
   ]
  },
  {
   "cell_type": "code",
   "execution_count": null,
   "metadata": {},
   "outputs": [],
   "source": [
    "fig, axs = plt.subplots(2, 2, figsize=(15, 8))\n",
    "print(axs)\n",
    "print(axs.flatten())\n",
    "\n",
    "for store, ax in zip(laborSheetData['Store'].unique(), axs.flatten()):\n",
    "    \n",
    "    # laborSheetData.loc[laborSheetData['Store']==store, :].groupby('Manager')['Sales'].mean().plot(ax=ax)\n",
    "    storeSubset = laborSheetData.loc[laborSheetData['Store']==store, :]\n",
    "    managerHourlyMeanSales = storeSubset.groupby('Manager')['Sales'].mean()\n",
    "    managerHourlyMeanSales.plot(ax=ax, kind='bar')\n",
    "    ax.set_title(store)\n",
    "\n",
    "fig.tight_layout()"
   ]
  },
  {
   "cell_type": "markdown",
   "metadata": {},
   "source": [
    "### In Class Exercise\n",
    "Add a cell below and create a bar plot of data from the laborSheetData dataframe"
   ]
  },
  {
   "cell_type": "markdown",
   "metadata": {},
   "source": [
    "## Question or Comments About This Notebook?\n",
    "Feel free to contact me via my LinkedIn: https://www.linkedin.com/in/william-j-henry <br>\n",
    "You can also email me at will@henryanalytics.com <br>"
   ]
  }
 ],
 "metadata": {
  "hide_input": false,
  "kernelspec": {
   "display_name": "Python 3",
   "language": "python",
   "name": "python3"
  },
  "language_info": {
   "codemirror_mode": {
    "name": "ipython",
    "version": 3
   },
   "file_extension": ".py",
   "mimetype": "text/x-python",
   "name": "python",
   "nbconvert_exporter": "python",
   "pygments_lexer": "ipython3",
   "version": "3.6.3"
  }
 },
 "nbformat": 4,
 "nbformat_minor": 2
}
